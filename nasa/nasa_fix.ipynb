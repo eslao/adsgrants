{
 "metadata": {
  "name": "sorting"
 },
 "nbformat": 3,
 "nbformat_minor": 0,
 "worksheets": [
  {
   "cells": [
    {
     "cell_type": "code",
     "collapsed": false,
     "input": [
      "source_file = '/Users/christine/adsgrants/nasa/NASA_grants_output_single_query_with_column_names.csv'\n",
      "no_hits_file = '/Users/christine/adsgrants/nasa/NASA_grants_output_no_hits.csv'\n",
      "nasa_ads_hits_file = '/Users/christine/adsgrants/nasa/NASA_grants_output_ads_hits.csv'\n",
      "leftovers_file = '/Users/christine/adsgrants/nasa/NASA_grants_output_other_hits.csv'\n",
      "column_names = ['Awardee', 'Doing Business As Name', 'PD/PI Name', 'PD/PI Phone', 'PD/PI Email', 'Co-PD(s)/co-PI(s)', 'Award Date', 'Estimated Total Award Amount', 'Funds Obligated to Date', 'Award Start Date', 'Award Expiration Date', 'Transaction Type', 'Agency', 'Awarding Agency Code', 'Funding Agency Code', 'CFDA Number', 'Primary Program Source', 'Award Title or Description', 'Federal Award ID Number', 'DUNS ID', 'Parent DUNS ID', 'Program', 'Program Officer Name', 'Program Officer Phone', 'Program Officer Email', 'Awardee Street', 'Awardee City', 'Awardee State', 'Awardee ZIP', 'Awardee County', 'Awardee Country', 'Awardee Cong. District',' Primary Organization Name', 'Primary Street', 'Primary City', 'Primary State', 'Primary ZIP', 'Primary County', 'Primary Country', 'Primary Cong. District', 'ADS results URL', 'ADS results', 'ADS Bibcode', 'Title', 'Author', 'Author affiliation', 'Keywords', 'Identifiers', 'Citation count', 'Publication', 'Volume', 'Issue', 'Page', 'Abstract', 'ADS search highlights', 'Properties']"
     ],
     "language": "python",
     "metadata": {},
     "outputs": [],
     "prompt_number": 18
    },
    {
     "cell_type": "code",
     "collapsed": false,
     "input": [
      "record_prefix = 'http://labs.adsabs.harvard.edu/adsabs/api/record/'\n",
      "record_suffix = '?fl=property&dev_key='\n",
      "apikey = ''"
     ],
     "language": "python",
     "metadata": {},
     "outputs": [],
     "prompt_number": 21
    },
    {
     "cell_type": "code",
     "collapsed": false,
     "input": [
      "def getadslist (adsfield, csvfield):\n",
      "    if str(recor).find(\"'\" + adsfield + \"':\") == -1:\n",
      "        newrow.append('no ' + csvfield + ' data')\n",
      "    else:\n",
      "        newrow.append('; '.join(hit[adsfield]))"
     ],
     "language": "python",
     "metadata": {},
     "outputs": [],
     "prompt_number": 19
    },
    {
     "cell_type": "code",
     "collapsed": false,
     "input": [
      "import csv\n",
      "import sys\n",
      "csv.field_size_limit(sys.maxsize)"
     ],
     "language": "python",
     "metadata": {},
     "outputs": [
      {
       "output_type": "pyout",
       "prompt_number": 9,
       "text": [
        "131072"
       ]
      }
     ],
     "prompt_number": 9
    },
    {
     "cell_type": "code",
     "collapsed": false,
     "input": [
      "import requests\n",
      "import json\n",
      "import time"
     ],
     "language": "python",
     "metadata": {},
     "outputs": [],
     "prompt_number": 32
    },
    {
     "cell_type": "code",
     "collapsed": false,
     "input": [
      "with open(source_file, mode='rU') as f:\n",
      "    reader = csv.reader(f, delimiter=',', quotechar='\"')\n",
      "    f2 = open(no_hits_file, 'wb')\n",
      "    f3 = open(nasa_ads_hits_file, 'wb')\n",
      "    f4 = open(leftovers_file, 'wb')\n",
      "    nohitswriter = csv.writer(f2, delimiter=',', quotechar='\"', quoting=csv.QUOTE_MINIMAL)\n",
      "    nohitswriter.writerow(column_names)\n",
      "    nasa_ads_hitswriter = csv.writer(f3, delimiter=',', quotechar='\"', quoting=csv.QUOTE_MINIMAL)\n",
      "    nasa_ads_hitswriter.writerow(column_names)\n",
      "    leftoverswriter = csv.writer(f4, delimiter=',', quotechar='\"', quoting=csv.QUOTE_MINIMAL)\n",
      "    for row in reader:\n",
      "        if str(row).find('grant found in ADS') == -1:\n",
      "            nohitswriter.writerow(row)\n",
      "        else:\n",
      "            if str(row[12]).find('NASA') == -1:\n",
      "                leftoverswriter.writerow(row)\n",
      "                print row[12]\n",
      "            else:\n",
      "                newrow = list(row)\n",
      "                hit = requests.get(record_prefix + row[42] + record_suffix + apikey).json()\n",
      "                time.sleep(1)\n",
      "                getadslist('property', 'property')\n",
      "                nasa_ads_hitswriter.writerow(newrow)"
     ],
     "language": "python",
     "metadata": {},
     "outputs": []
      }
     ],
     "prompt_number": 34
    },
    {
     "cell_type": "code",
     "collapsed": false,
     "input": [
      "row[42]"
     ],
     "language": "python",
     "metadata": {},
     "outputs": [
      {
       "output_type": "pyout",
       "prompt_number": 17,
       "text": [
        "'1965ApJS...11..277H'"
       ]
      }
     ],
     "prompt_number": 17
    },
    {
     "cell_type": "code",
     "collapsed": false,
     "input": [
      "hit = requests.get(record_prefix + row[42] + record_suffix + apikey).json()"
     ],
     "language": "python",
     "metadata": {},
     "outputs": [],
     "prompt_number": 24
    },
    {
     "cell_type": "code",
     "collapsed": false,
     "input": [
      "hit['property']"
     ],
     "language": "python",
     "metadata": {},
     "outputs": [
      {
       "output_type": "pyout",
       "prompt_number": 30,
       "text": [
        "[u'OCRABSTRACT', u'OPENACCESS', u'REFEREED', u'ADS_SCAN', u'ARTICLE']"
       ]
      }
     ],
     "prompt_number": 30
    },
    {
     "cell_type": "code",
     "collapsed": false,
     "input": [],
     "language": "python",
     "metadata": {},
     "outputs": []
    }
   ],
   "metadata": {}
  }
 ]
}
