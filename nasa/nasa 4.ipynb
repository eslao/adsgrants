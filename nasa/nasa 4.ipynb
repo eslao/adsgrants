{
 "metadata": {
  "name": "nasa 4"
 },
 "nbformat": 3,
 "nbformat_minor": 0,
 "worksheets": [
  {
   "cells": [
    {
     "cell_type": "code",
     "collapsed": false,
     "input": [
      "import csv\n",
      "import requests\n",
      "import json\n",
      "from pprint import pprint\n",
      "import time\n",
      "requests.__version__"
     ],
     "language": "python",
     "metadata": {},
     "outputs": [
      {
       "output_type": "pyout",
       "prompt_number": 91,
       "text": [
        "'1.2.0'"
       ]
      }
     ],
     "prompt_number": 91
    },
    {
     "cell_type": "code",
     "collapsed": false,
     "input": [
      "prefix = 'http://labs.adsabs.harvard.edu/adsabs/api/search/?q='\n",
      "suffix1 = '&fl=bibcode&dev_key='\n",
      "suffix2 = '&hl=full&hl=abstract&rows=5&dev_key='\n",
      "apikey = ''"
     ],
     "language": "python",
     "metadata": {},
     "outputs": [],
     "prompt_number": 93
    },
    {
     "cell_type": "code",
     "collapsed": false,
     "input": [
      "with open('/Users/christine/adsgrants/nasa/NASA_grants_test.csv', 'rU') as f:\n",
      "    reader = csv.reader(f, delimiter=',', quotechar='\"')\n",
      "    f2 = open('/Users/christine/adsgrants/nasa/NASA_grants_output.csv', 'wb')\n",
      "    grantswriter = csv.writer(f2, delimiter=',', quotechar='\"', quoting=csv.QUOTE_MINIMAL)\n",
      "    for row in reader:\n",
      "        grant = row[1]\n",
      "        result = requests.get(prefix + grant + suffix1 + apikey).json()\n",
      "        if str(result).find(\"bibcode\") == -1:\n",
      "            biblist = \"no hits\"\n",
      "        else:\n",
      "            bibcodes = result['results']['docs']\n",
      "            biblist = [item['bibcode'] for item in bibcodes]\n",
      "        row.append(biblist)\n",
      "        grantswriter.writerow(row)\n",
      "        print row\n",
      "        time.sleep(1)"
     ],
     "language": "python",
     "metadata": {},
     "outputs": [
      {
       "output_type": "stream",
       "stream": "stdout",
       "text": [
        "['4200167756', 'NNX06AE85G', 'HQ', 'NORTH AMERICAN LAND CHANGE: INTEGRATED RESEARCH EDUCATION', 'STEVEN MANSON', 'MING-YING WEI', 'UNIVERSITY OF MINNESOTA', '8/10/06', '8/1/06', '7/31/09', 'AWARDED', 'NO', 'no hits']\n",
        "['4200164970', 'NNX06AD64G', 'HQ', 'NVO SUMMER SCHOOL III', 'ALEXANDER SZALAY', 'JEFFREY HAYES', 'JOHNS HOPKINS UNIVERSITY', '8/11/06', '9/1/06', '8/31/07', 'AWARDED', 'NO', 'no hits']"
       ]
      },
      {
       "output_type": "stream",
       "stream": "stdout",
       "text": [
        "\n",
        "['4200166001', 'NNX06AD91G', 'HQ', 'REASSESSMENT OF THE VIKING-BASED PUBLISHED GEOLOGIC INFORMATION OF THE THAUMASIA REGION USING MARS G', 'JAMES DOHM', 'ROBERT FOGEL', 'UNIVERSITY OF ARIZONA', '8/11/06', '7/15/06', '7/14/09', 'AWARDED', 'NO', 'no hits']"
       ]
      },
      {
       "output_type": "stream",
       "stream": "stdout",
       "text": [
        "\n",
        "['4200166102', 'NNX06AD99G', 'HQ', 'INTERPRETATION OF MARTIAN POLAR STRATIGRAPHY USING ICE FLOW INVERSE MODELING', 'DALE WINEBRENNER', 'ROBERT FOGEL', 'UNVERSITY OF WASHINGTON', '8/11/06', '7/15/06', '7/14/09', 'AWARDED', 'NO', [u'2009Icar..204..458K', u'2008Icar..195...90W']]"
       ]
      },
      {
       "output_type": "stream",
       "stream": "stdout",
       "text": [
        "\n",
        "['4200166103', 'NNX06AE08G', 'HQ', 'GLOBAL ANALYSIS OF MARTIAN VALLEY NETWORKS USING THEMIS DATA', 'BRIAN HYNEK', 'ROBERT FOGEL', 'UNIVERSITY OF COLORADO', '8/11/06', '7/15/06', '7/14/09', 'AWARDED', 'NO', [u'2011E&PSL.312....1H', u'2011Icar..211.1179R', u'2010JGRE..11510012O']]"
       ]
      },
      {
       "output_type": "stream",
       "stream": "stdout",
       "text": [
        "\n",
        "['4200166294', 'NNX06AE17G', 'HQ', 'DEVELOPMENT OF EMPIRICAL TOOLS FOR FORECASTING SAFE OR DANGEROUS SPACE WEATHER FROM MAGNETOGRAMS', 'DAVID FALCONER', 'MADHULIKA GUHATHAKURTA', 'UNIVERSITY OF ALABAMA, HUNTSVILLE', '8/11/06', '10/1/06', '9/30/09', 'AWARDED', 'NO', 'no hits']"
       ]
      },
      {
       "output_type": "stream",
       "stream": "stdout",
       "text": [
        "\n",
        "['4200166697', 'NNX06AE31G', 'HQ', 'GREENLAND GLACIER DISCHARGE VARIABILITY FROM AUTOMATED GROUND-BASED IMAGING', 'JASON BOX', 'MING-YING WEI', 'THE OHIO STATE UNIVERSITY RESEARCH FOUNDATION', '8/11/06', '8/1/06', '7/31/09', 'AWARDED', 'NO', 'no hits']"
       ]
      },
      {
       "output_type": "stream",
       "stream": "stdout",
       "text": [
        "\n",
        "['4200168211', 'NNX06AE78G', 'GSFC', 'UNDERSTANDING GAS INTERACTIONS IN GROUPS: NGC 1600', 'CRAIG SARAZIN', 'STEVEN SNOWDEN', 'THE RECTOR AND VISITORS OF THE UNIVERSITY OF VA', '8/11/06', '8/1/06', '7/31/07', 'AWARDED', 'NO', 'no hits']"
       ]
      },
      {
       "output_type": "stream",
       "stream": "stdout",
       "text": [
        "\n",
        "['4200168308', 'NNX06AE81G', 'GSFC', 'MAGNETIC CVS FROM SDDS', 'ARNE HENDEN', 'STEVE SNOWDEN', 'AAVSO', '8/11/06', '8/1/06', '7/31/07', 'AWARDED', 'NO', 'no hits']"
       ]
      },
      {
       "output_type": "stream",
       "stream": "stdout",
       "text": [
        "\n",
        "['4200160365', 'NNX06AC74G', 'GSFC', 'MULTI-WAVELENGTH APPROACH TO GAS DYNAMICS AND COMA CHEMISTRY IN COMETS', 'LAURA WOODNEY', 'LINDLEY JOHNSON', 'FOUNDATION FOR CALIFORNIA STATE UNIV - SAN DIEGO', '8/13/06', '7/11/06', '7/10/08', 'AWARDED', 'NO', 'no hits']"
       ]
      },
      {
       "output_type": "stream",
       "stream": "stdout",
       "text": [
        "\n",
        "['4200160198', 'NNX06AC71G', 'GSFC', 'MODELING FIXED POINTS OBTAINED WITH TORSION BALANCE MEASUREMENTS', 'JENS GUNDLACH', 'STEPHEN MERKOWITZ', 'UNIVERSITY OF WASHINGTON', '8/14/06', '7/17/06', '7/16/07', 'AWARDED', 'NO', 'no hits']"
       ]
      },
      {
       "output_type": "stream",
       "stream": "stdout",
       "text": [
        "\n",
        "['4200164953', 'NNX06AD66G', 'HQ', 'DATA SERVICES UPGRADE: WEB & DATA SERVER FOR ULYSSES HI-SCALE DATA', 'CARSTEN DENKER', 'CHARLES HOLMES', 'NEW JERSEY INSTITUTE OF TECHNOLOGY', '8/14/06', '7/11/06', '7/10/07', 'AWARDED', 'NO', 'no hits']"
       ]
      },
      {
       "output_type": "stream",
       "stream": "stdout",
       "text": [
        "\n",
        "['4200166679', 'NNX06AE28G', 'GSFC', 'IMPACTS OF LAND-COVER/LAND-USE CHANGE ON TERRESTRIAL ECOSYSTEM CARBON BUDGET', 'CONGHE SONG', 'MING-YING WEI', 'UNIVERSITY OF NORTH CAROLINA AT CHAPEL HILL', '8/14/06', '8/1/06', '7/31/09', 'AWARDED', 'NO', [u'2009JGRG..114.4021S']]"
       ]
      },
      {
       "output_type": "stream",
       "stream": "stdout",
       "text": [
        "\n",
        "['4200166780', 'NNX06AE33G', 'HQ', 'CURATION OF ANTARCTIC METEORITES', 'TIMOTHY MCCOY', 'DAVID LINDSTROM', 'SMITHSONIAN INSTITUTION', '8/14/06', '8/1/06', '7/31/08', 'AWARDED', 'NO', 'no hits']"
       ]
      },
      {
       "output_type": "stream",
       "stream": "stdout",
       "text": [
        "\n",
        "['4200167700', 'NNX06AE38G', 'GSFC', 'EXPLORATORY XMM-NEWTON OBSERVATION OF ACTIVE GALACTIC NUCLEI WITH INTERMEDIATE MASS BLACK HOLE', 'GULAB DEWANGAN', 'STEVE SNOWDEN', 'CARNEGIE MELLON UNIVERSITY', '8/14/06', '7/25/06', '7/24/07', 'AWARDED', 'NO', [u'2007PThPS.169..244D']]"
       ]
      },
      {
       "output_type": "stream",
       "stream": "stdout",
       "text": [
        "\n",
        "['4200165552', 'NNX06AD80G', 'GSFC', 'DESIGN OF COMPONENTS FOR A QUANTUM LIMITED POLARMETRIC MILLIMETER WAVE IMAGING SYSTEM', 'CHRISTOPHER DAVIS', 'TERENCE DOIRON', 'UNIVERSITY OF MARYLAND', '8/15/06', '7/17/06', '1/16/08', 'AWARDED', 'NO', 'no hits']"
       ]
      },
      {
       "output_type": "stream",
       "stream": "stdout",
       "text": [
        "\n",
        "['4200169342', 'NNX06AG25H', 'HQ', 'COUPLED ATMOSPHERE-OCEAN DYNAMICS OF SOUTHERN OCEAN CYCLONES', 'MARK BOURASSA', 'MING-YING WEI', 'FLORIDA STATE UNIVERSITY', '8/15/06', '9/1/06', '8/31/09', 'AWARDED', 'NO', 'no hits']"
       ]
      },
      {
       "output_type": "stream",
       "stream": "stdout",
       "text": [
        "\n",
        "['4200164952', 'NNX06AD68G', 'GSFC', 'LASP INTERACTIVE SOLAR IRADIANCE DATACENTER (LISIRD) DATA SERVICES UPGRADE', 'MARTIN SNOW', 'CHARLES HOLMES', 'THE REGENTS OF THE UNIVERSITY OF COLORADO', '8/16/06', '7/11/06', '7/10/07', 'AWARDED', 'NO', 'no hits']"
       ]
      },
      {
       "output_type": "stream",
       "stream": "stdout",
       "text": [
        "\n",
        "['4200168803', 'NNX06AF95H', 'HQ', 'USE OF SATELLITE DATA FOR SOIL PARAMETER ESTIMATION IN RIO GRANDE BASIN', 'BINAYAK MOHANTY', 'MING-YING WEI', 'TEXAS A&M', '8/16/06', '9/1/06', '8/31/09', 'AWARDED', 'NO', [u'2012WRR....48.2518J', u'2012WRR....48.2519J', u'2012WRR....48.2520J', u'2011JHyd..399..201J']]"
       ]
      },
      {
       "output_type": "stream",
       "stream": "stdout",
       "text": [
        "\n",
        "['4200166680', 'NNX06AE34G', 'HQ', 'USING NASA ADVANCES IN CLIMATE PREDICTION AND SPACE-BASED OBSERVATION FOR OPERATIONAL HYDROLOGIC FOR', 'ANDY WOOD', 'MING-YING WEI', 'UNIVERSITY OF WASHINGTON', '8/17/06', '8/1/06', '7/31/09', 'AWARDED', 'NO', 'no hits']"
       ]
      },
      {
       "output_type": "stream",
       "stream": "stdout",
       "text": [
        "\n",
        "['4200163262 / 4200165410', 'NNX06AF47A', 'GSFC', 'ADMINISTRATIVE CHANGE TO DEOBLIGATE. REFERENCE NNX06AF47A FOR AWARD', 'CHRISTOPHER FOSTER', 'SCOTT WEB', 'MARYLAND DEPARTMENT OF BUSINESS & ECONOMIC DEVELOP', '8/17/06', '8/14/06', '8/13/08', 'AWARDED', 'YES', 'no hits']"
       ]
      },
      {
       "output_type": "stream",
       "stream": "stdout",
       "text": [
        "\n",
        "['4200167451', 'NNX06AD47G', 'GSFC', 'SOIL MOISTURE SMART SENSOR WEB USING DATA ASSIMILATION AND OPTIMAL CONTROL', 'MAHTA MOGHADDAM', 'DAVID B. ERCEGOVIC', 'UNIVERSITY OF MICHIGAN', '8/18/06', '11/1/06', '10/31/09', 'AWARDED', 'NO', [u'2012arXiv1205.6018N', u'2010arXiv1002.4172N', u'2009arXiv0910.4955N', u'2009arXiv0910.5264N']]"
       ]
      },
      {
       "output_type": "stream",
       "stream": "stdout",
       "text": [
        "\n",
        "['4200170401', 'NNX06AG05G', 'GSFC', 'WHAT IS THE PHYSICAL NATURE OF KAZ 102:', 'TAKAMITSU MIYAJI', 'STEVEN SNOWDEN', 'CARNEGIE MELLON UNIVERSITY', '8/18/06', '8/9/06', '8/8/07', 'AWARDED', 'NO', 'no hits']"
       ]
      },
      {
       "output_type": "stream",
       "stream": "stdout",
       "text": [
        "\n",
        "['4200164302', 'NNX06AC67G S01', 'GSFC', 'AUGMENTATION SUPPLEMENT', 'ANDREW HEYMSFIELD', 'RICHARD LAWRENCE', 'UNIVERSITY CORPORATION FOR ATMOSPHERIC RESEARCH', '8/21/06', '6/6/06', '6/5/09', 'AWARDED', 'NO', 'no hits']"
       ]
      },
      {
       "output_type": "stream",
       "stream": "stdout",
       "text": [
        "\n",
        "['4200166869', 'NNX06AC78G S01', 'GSFC', 'AUGMENTATION - FUNDING FOR TRAVELL AND', 'JOSEPH EVERETTE', 'RICHARD LAWRENCE', 'HOWARD UNIVERSITY', '8/21/06', '7/1/06', '6/30/09', 'AWARDED', 'NO', 'no hits']"
       ]
      },
      {
       "output_type": "stream",
       "stream": "stdout",
       "text": [
        "\n",
        "['4200159069', 'NNX06AC10G S01', 'GSFC', 'ADMINISTRATIVE SUPPLEMENT 01', 'DALE WINEBRENNER', 'STEPHEN SAUNDERS', 'UNIVERSITY OF WASHINGTON', '8/22/06', '6/13/06', '6/12/09', 'AWARDED', 'NO', 'no hits']"
       ]
      },
      {
       "output_type": "stream",
       "stream": "stdout",
       "text": [
        "\n",
        "['4200167535', 'NNX06AE42G', 'GSFC', 'OPTIMIZED AUTONOMOUS SPACE - IN-SITU SENSORWEB', 'WENZHAN SONG', 'STEVEN SMITH', 'WASHINGTON STATE UNIVERSITY', '8/22/06', '1/1/07', '12/31/10', 'AWARDED', 'NO', 'no hits']"
       ]
      },
      {
       "output_type": "stream",
       "stream": "stdout",
       "text": [
        "\n",
        "['4200167445', 'NNX06AE45G', 'GSFC', 'LAND INFORMATION SENSOR WEB', 'PAUL HOUSER', 'STEVEN SMITH', 'INSTITUTE OF GLOBAL ENVIRONMENT & SOCIETY, INC.', '8/22/06', '8/1/06', '7/31/09', 'AWARDED', 'NO', 'no hits']"
       ]
      },
      {
       "output_type": "stream",
       "stream": "stdout",
       "text": [
        "\n",
        "['4200167532', 'NNX06AE50G', 'GSFC', 'RECONFIGURABLE SENSOR NETWORKS FOR FAULT-TOLERANT IN-SITU SAMPLING', 'AYANNA HOWARD', 'DAVID ERCEGOVIC', 'GEORGIA TECH RESEARCH CORPORATION', '8/22/06', '9/15/06', '9/14/09', 'AWARDED', 'NO', [u'2009TCD.....3.1069L']]"
       ]
      },
      {
       "output_type": "stream",
       "stream": "stdout",
       "text": [
        "\n",
        "['4200167806', 'NNX06AE52G', 'GSFC', 'A MODERN QUASAR SED FROM XMM-NEWTON, SPITZER, AND SDSS', 'GORDON RICHARDS', 'STEVE SNOWDEN', 'DREXEL UNIVERSITY', '8/22/06', '7/25/06', '7/24/07', 'AWARDED', 'NO', 'no hits']"
       ]
      },
      {
       "output_type": "stream",
       "stream": "stdout",
       "text": [
        "\n",
        "['4200169177', 'NNX06AF68H', 'HQ', 'OPTIMUM BAND SELECTION TECHNIQUES UNDER HYPERSPECTRAL IMAGE ANALYSIS FOR MATERIAL IDENTIFICATION', 'BRYAN USEVITCH', 'MING-YING WEI', 'UNIVERSITY OF TEXAS EL PASO', '8/22/06', '9/1/06', '8/31/09', 'AWARDED', 'NO', 'no hits']"
       ]
      },
      {
       "output_type": "stream",
       "stream": "stdout",
       "text": [
        "\n",
        "['4200170099', 'NNX06AG27G', 'HQ', 'PLANETARY EQUIPMENT PROPOSAL- LIBRATION INDUCES FLUID DYNAMICS OF PLANETARY CORES AND SUB SURFACE OC', 'JONATHAN AURNOU', 'STEVE SAUNDERS', 'REGENTS OF THE UNIVERSITY OF CALIFORNIA', '8/22/06', '8/7/06', '8/6/07', 'AWARDED', 'NO', 'no hits']"
       ]
      },
      {
       "output_type": "stream",
       "stream": "stdout",
       "text": [
        "\n",
        "['4200156090', 'NNX06AB78H', 'GSFC', 'LOW IONIZATION NUCLEAR EMISSION-LINE REGIONS: THE MISSING LINK IN THE GALAXY POPULATION', 'SHOBITA SATYAPAL', 'MABLELENE BURRELL', 'GEORGE MASON UNIVERSITY', '8/23/06', '7/18/06', '7/17/09', 'AWARDED', 'NO', 'no hits']"
       ]
      },
      {
       "output_type": "stream",
       "stream": "stdout",
       "text": [
        "\n",
        "['4200166786', 'NNX06AC11G S01', 'GSFC', 'AUGMENTATION TO YEAR ONE', 'ROBERT CIFELLI', 'RICHARD LAWRENCE', 'COLORADO STATE UNIVERSITY', '8/23/06', '6/1/06', '5/31/09', 'AWARDED', 'NO', 'no hits']"
       ]
      },
      {
       "output_type": "stream",
       "stream": "stdout",
       "text": [
        "\n",
        "['4200158861', 'NNX06AC80G', 'GSFC', 'EARTH SYSTEM SCIENCE ENGINEERING: A SYNERGISTIC STEM PATHWAY', 'JEFFREY STEINER', 'CARL PERSON', 'CITY COLLEGE OF NY', '8/23/06', '7/20/06', '7/19/07', 'AWARDED', 'NO', 'no hits']"
       ]
      },
      {
       "output_type": "stream",
       "stream": "stdout",
       "text": [
        "\n",
        "['4200166767', 'NNX06AE37G', 'GSFC', 'INVESTIGATION OF COASTAL PHYTOPLANKTON DYNAMICS BY ADJOINT DATA ASSIMILATION OF SATELLITE OCEAN COLO', 'RUOYING HE', 'MING-YING WEI', 'WOODS HOLE OCEANGRAPHIC INSTITUTION', '8/23/06', '8/1/06', '7/31/09', 'AWARDED', 'NO', 'no hits']"
       ]
      },
      {
       "output_type": "stream",
       "stream": "stdout",
       "text": [
        "\n",
        "['4200167450', 'NNX06AE43G', 'GSFC', 'AN ADAPTIVE, NEGOTIATING MULTI-AGENT SYSTEM FOR SENSOR WEBS', 'COSTAS TSATSOULIS', 'DAVID ERCEGOVIC', 'UNIVERSITY OF KANSAS', '8/23/06', '12/1/06', '11/30/09', 'AWARDED', 'NO', 'no hits']"
       ]
      },
      {
       "output_type": "stream",
       "stream": "stdout",
       "text": [
        "\n",
        "['4200167537', 'NNX06AE46G', 'GSFC', 'SATELLITE SENSORNET GATEWAY (SSG)', 'AARON FALK', 'STEVEN SMITH', 'UNIVERSITY OF SOUTHERN CALIFORNIA', '8/23/06', '10/1/06', '9/30/09', 'AWARDED', 'NO', 'no hits']"
       ]
      },
      {
       "output_type": "stream",
       "stream": "stdout",
       "text": [
        "\n",
        "['4200167748', 'NNX06AE54G', 'GSFC', 'DEFINING THE X-RAY PROPERTIES OF THE MOST DISTANT RADIO-LOUD QUASARS', 'WILLIAM BRANDT', 'STEVE SNOWDEN', 'PENNSYLVANIA STATE UNIVERSITY', '8/23/06', '7/25/06', '7/24/07', 'AWARDED', 'NO', 'no hits']"
       ]
      },
      {
       "output_type": "stream",
       "stream": "stdout",
       "text": [
        "\n",
        "['4200152414', 'NNX06AE82G', 'GSFC', 'POINT DEFECTS CREATED BY RADIATION IN NON-LINEAR OPTICAL CRYSTALS USED FOR SPACE-BASED LASER SYSTEMS', 'GALINA MALOVICHKO', 'BRIAN OTTENS', 'MONTANA STATE UNIVERSITY', '8/23/06', '8/1/06', '7/31/07', 'AWARDED', 'NO', 'no hits']"
       ]
      },
      {
       "output_type": "stream",
       "stream": "stdout",
       "text": [
        "\n",
        "['4200169347', 'NNX06AF50H', 'HQ', 'COMPARISON OF IN SITU AND REMOTELY SENSED MEASUREMENTS OF CIRRUS CLOUD PROPERTIES', 'LINNEA AVALLONE', 'MING-YING WEI', 'UNIVERSITY OF COLORADO-BOULDER', '8/23/06', '9/1/06', '8/31/09', 'AWARDED', 'NO', 'no hits']"
       ]
      },
      {
       "output_type": "stream",
       "stream": "stdout",
       "text": [
        "\n",
        "['4200168634', 'NNX06AF76H', 'HQ', 'THE IMPACTS F EL NINO PHASES ON THE INDIAN SUMMER MONSOON RAINFALL', 'MARK CANE', 'MING-YING WEI', 'COLUMBIA UNIVERSITY', '8/23/06', '9/1/06', '8/31/09', 'AWARDED', 'NO', 'no hits']"
       ]
      },
      {
       "output_type": "stream",
       "stream": "stdout",
       "text": [
        "\n",
        "['4200166676', 'NNX06AE35G', 'GSFC', 'A REGIONAL-SCALE ANALYSIS OF REGENERATING TROPICAL DRY FORESTS IN COSTA RICA', 'JENNIFER POWERS', 'MING-YING WEI', 'UNIVERSITY OF MINNESOTA', '8/24/06', '8/1/06', '7/31/09', 'AWARDED', 'NO', 'no hits']"
       ]
      },
      {
       "output_type": "stream",
       "stream": "stdout",
       "text": [
        "\n",
        "['4200169161', 'NNX06AF70H', 'HQ', 'INVESTIGATING THE ROLE OF STORMWATER RUNOFF ON COASTAL PHYTOPLANKTON COMMUNITY STRUCTURE IN SOUTHERN', 'BURTON JONES', 'MING-YING WEI', 'UNIVERSITY OF SOUTHERN CALIFORNIA', '8/24/06', '9/1/06', '8/31/09', 'AWARDED', 'NO', [u'2009CSR....29.1821R']]"
       ]
      },
      {
       "output_type": "stream",
       "stream": "stdout",
       "text": [
        "\n",
        "['4200158865', 'NNX06AC52H S01', 'SSC', 'SUPPLEMENTAL ADMINISTRATIVE CHANGE TO CORRECT DATE', 'WILLIAM ANDERSON', 'KATIE WALLACE', 'PURDUE UNIVERSITY-MAIN CAMPUS', '8/25/06', '8/1/06', '7/31/09', 'AWARDED', 'NO', 'no hits']"
       ]
      },
      {
       "output_type": "stream",
       "stream": "stdout",
       "text": [
        "\n",
        "['4200158865', 'NNX06AC52H S01', 'SSC', 'SUPPLEMENTAL ADMINISTRATIVE CHANGE TO CORRECT DATE', 'WILLIAM ANDERSON', 'KATIE WALLACE', 'PURDUE UNIVERSITY-MAIN CAMPUS', '8/25/06', '8/1/06', '7/31/09', 'AWARDED', 'NO', 'no hits']"
       ]
      },
      {
       "output_type": "stream",
       "stream": "stdout",
       "text": [
        "\n",
        "['4200167869', 'NNX06AE74G', 'GSFC', 'TRANSIENT SUPERSOFT X-RAY SOURCES: MONITORING THE EVOLUTION', 'MARINA ORIO', 'STEVE SNOWDEN', 'UNIVERSITY OF WISCONSIN, MADISON', '8/25/06', '7/25/06', '7/24/07', 'AWARDED', 'NO', 'no hits']"
       ]
      },
      {
       "output_type": "stream",
       "stream": "stdout",
       "text": [
        "\n",
        "['4200168547', 'NNX06AE95G', 'GSFC', 'PROBING THE NATURE OF A VERY LUMINOUS GLOBULAR CLUSTER X-RAY SOURCE', 'WALTER LEWIN', 'STEVE SNOWDEN', 'MASSACHUSSETTS INSTITUTE OF TECHNOLOGY', '8/25/06', '8/1/06', '7/31/07', 'AWARDED', 'NO', 'no hits']"
       ]
      },
      {
       "output_type": "stream",
       "stream": "stdout",
       "text": [
        "\n",
        "['4200168323', 'NNX06AF18H', 'HQ', 'INTEGRATING MODIS AND TRMM SATELLITE DATA WITH IN SITU CHINESE STATION DATA TO STUDY THE IMPACT OF T', 'ZHAOXIA PU', 'MING-YING WEI', 'UNIVERSITY OF UTAH', '8/25/06', '9/1/06', '8/31/09', 'AWARDED', 'NO', 'no hits']"
       ]
      },
      {
       "output_type": "stream",
       "stream": "stdout",
       "text": [
        "\n",
        "['4200169807', 'NNX06AF36G', 'GSFC', 'XMM-NEWTON OBSERVATIONS OF YOUNG ENERGETIC SUPERNOVAE', 'WALTER LEWIN', 'STEVEN SNOWDEN', 'MASSACHUSSETTS INSTITUTE OF TECHNOLOGY', '8/25/06', '8/2/06', '8/1/07', 'AWARDED', 'NO', 'no hits']"
       ]
      },
      {
       "output_type": "stream",
       "stream": "stdout",
       "text": [
        "\n",
        "['4200168950', 'NNX06AF54H', 'GSFC', 'CONSTRAINING CO SOURCES AND CO2 SURFACE FLUXES USING SATELLITE OBSERVATIONS AND A 4-DIMENSIONAL VARI', 'DANIEL JACOB', 'MING-YING WEI', 'HARVARD UNIVERSITY', '8/25/06', '9/1/06', '8/31/09', 'AWARDED', 'NO', 'no hits']"
       ]
      },
      {
       "output_type": "stream",
       "stream": "stdout",
       "text": [
        "\n",
        "['4200168627', 'NNX06AF97H', 'HQ', 'MEASURING SNOW WATER EQUIVALENT USING INTERFEROMETRIC SYNTHETIC APERTURE RADAR (INSAR)', 'RICHARD FORSTER', 'MING-YING WEI', 'UNIVERSITY OF UTAH', '8/25/06', '9/1/06', '8/31/09', 'AWARDED', 'NO', 'no hits']"
       ]
      },
      {
       "output_type": "stream",
       "stream": "stdout",
       "text": [
        "\n",
        "['4200168637', 'NNX06AE89G', 'GSFC', 'ORIGIN OF X-RAYS AND NATURE ACCRETION IN THE RADIO GALAXY 3C88', 'MARIO GLIOZZI', 'STEVE SNOWDEN', 'GEORGE MASON UNIVERSITY', '8/28/06', '8/1/06', '7/31/07', 'AWARDED', 'NO', 'no hits']"
       ]
      },
      {
       "output_type": "stream",
       "stream": "stdout",
       "text": [
        "\n",
        "['4200170243', 'NNX06AF63G', 'GSFC', 'A NEW MAGNETAR IN A YOUNG SUPERNOVA REMNANT', 'CHARLES ALCOCK', 'STEVE SNOWDEN', 'HARVARD UNIVERSITY', '8/28/06', '8/7/06', '8/6/07', 'AWARDED', 'NO', 'no hits']"
       ]
      },
      {
       "output_type": "stream",
       "stream": "stdout",
       "text": [
        "\n",
        "['4200162514', 'NNX06AC94G', 'GSFC', \"ENHANCING NASA'S LCLUC PRODUCTS AND SERVICES THROUGH GIFC-GOLD'S REGIONAL NETWORKS\", 'HASSAN VIRJI', 'GARIK GUTMAN', 'AGU INTERNATIONAL START SECRETARIAT', '8/29/06', '6/15/06', '6/14/09', 'AWARDED', 'NO', 'no hits']"
       ]
      },
      {
       "output_type": "stream",
       "stream": "stdout",
       "text": [
        "\n",
        "['4200164276', 'NNX06AD32G', 'GSFC', 'VARIATIONS IN THE IONIZATION STRUCTURE WITHIN THE LOCAL INTERSTELLAR CLOUD AND NEIGHBORING CLOUDS', 'JEFFREY LINSKY', 'GEORGE SONNEBORN', 'UNIVERSITY OF COLORADO', '8/29/06', '7/1/06', '6/30/07', 'AWARDED', 'NO', [u'2009Ap&SS.320....3L']]"
       ]
      },
      {
       "output_type": "stream",
       "stream": "stdout",
       "text": [
        "\n",
        "['4200167871', 'NNX06AE56G', 'GSFC', 'HOT PLASMA IN W4: A SUPERNOVA SUPERBUBBLE?', 'LEISA TOWNSLEY', 'STEVE SNOWDEN', 'PENNSYLVANIA STATE UNIVERSITY', '8/29/06', '8/1/06', '7/31/07', 'AWARDED', 'NO', 'no hits']"
       ]
      },
      {
       "output_type": "stream",
       "stream": "stdout",
       "text": [
        "\n",
        "['4200167032', 'NNX06AE58G', 'GSFC', 'SATELLITE-BASED DYNAMICS IN TIBETAN PLATEAU IN THE CONTEXT OF GLOBAL CHANGE', 'YONGWEI SHENG', 'MING-YING WEI', 'UCLA', '8/29/06', '8/1/06', '7/31/09', 'AWARDED', 'NO', 'no hits']"
       ]
      },
      {
       "output_type": "stream",
       "stream": "stdout",
       "text": [
        "\n",
        "['4200169345', 'NNX06AF49H', 'HQ', 'INVESTIGATIONS OF ENSO PERSISTENCE BARRIER IN OCEAN HEAT CONTENT USING SATELLITE OBSERVATIONS AND', 'JIN-YI YU', 'MING-YING WEI', 'UNIVERSITY OF CALIFORNIA IRVINE', '8/29/06', '9/1/06', '8/31/09', 'AWARDED', 'NO', [u'2011ThApC.103..337Y', u'2007JGRD..11213106Y']]"
       ]
      },
      {
       "output_type": "stream",
       "stream": "stdout",
       "text": [
        "\n",
        "['4200168972', 'NNX06AF52H', 'HQ', 'ON THE EFFECTS OF ORGANIC NITRATE FORMATION ON REGIONAL AND GLOBAL OZONE AND NOX', 'RONALD COHEN', 'MING-YING WEI', 'REGENTS OF THE UNIVERSITY OF CALIFORNIA', '8/29/06', '9/1/06', '8/31/09', 'AWARDED', 'NO', 'no hits']"
       ]
      },
      {
       "output_type": "stream",
       "stream": "stdout",
       "text": [
        "\n",
        "['4200169920', 'NNX06AF88H', 'HQ', 'HARMFUL ALGAL BLOOMS IN AN URBANIZED COASTAL OCEAN-APPLICATION OF REMOTE SENSING FOR UNDERSTANDING,', 'BURTON JONES', 'MING-YING WEI', 'UNIVERSITY OF SOUTHERN CALIFORNIA', '8/29/06', '9/1/06', '8/31/09', 'AWARDED', 'NO', 'no hits']"
       ]
      },
      {
       "output_type": "stream",
       "stream": "stdout",
       "text": [
        "\n",
        "['4200165293', 'NNX06AB16G', 'GSFC', 'PROFESSIONAL DEVELOPMENT FOR TEACHERS: ENHANCING QUALITY', 'BRYON GRIGSBY', 'BRAULIO SANCHEZ', 'CENTENARY COLLEGE OF NEW JERSEY', '8/30/06', '8/7/06', '8/6/07', 'AWARDED', 'YES', 'no hits']"
       ]
      },
      {
       "output_type": "stream",
       "stream": "stdout",
       "text": [
        "\n",
        "['4200166078', 'NNX06AC70G', 'GSFC', 'NORTH SHORE AEROSPACE INITIATIVE', 'SANDRA BAST', 'DIANE POWELL', 'BAST SERVICES, INC', '8/30/06', '9/1/06', '8/31/07', 'AWARDED', 'YES', 'no hits']"
       ]
      },
      {
       "output_type": "stream",
       "stream": "stdout",
       "text": [
        "\n",
        "['4200161237', 'NNX06AC81G', 'GSFC', 'FLUXON MODELING OF THE SOLAR MAGNETIC CARPET', 'CRAIG DEFOREST', 'BILL WAGNER', 'SOUTHWEST RESEARCH INSTITUTE', '8/30/06', '7/26/06', '7/25/09', 'AWARDED', 'NO', 'no hits']"
       ]
      },
      {
       "output_type": "stream",
       "stream": "stdout",
       "text": [
        "\n",
        "['4200166108', 'NNX06AE05G', 'HQ', 'HYDROGEOLOGIC SIGNIFICANCE OF THE ASSOCIATION OF CHASMATA, CHAOTIC TERRAINS, AND SURFACE FLOW LANDFO', 'JOSE PALMERO RODRIGUEZ', 'ROBERT FOGEL', 'PLANETARY SCIENCE INSTITUTE', '8/30/06', '11/1/06', '10/31/09', 'AWARDED', 'NO', 'no hits']"
       ]
      },
      {
       "output_type": "stream",
       "stream": "stdout",
       "text": [
        "\n",
        "['4200167867', 'NNX06AE71G', 'GSFC', 'SEARCHING FOR IONIZED ABSORPTION IN LARGE CIV BLUESHIFT QUASARS', 'SARAH CONNORAN GALLAGHER', 'STEVE SNOWDEN', 'UNIVERSITY OF CALIFORNIA, LOS ANGELES', '8/30/06', '7/25/06', '7/24/07', 'AWARDED', 'NO', 'no hits']"
       ]
      },
      {
       "output_type": "stream",
       "stream": "stdout",
       "text": [
        "\n",
        "['4200168078', 'NNX06AF06G', 'GSFC', 'THE BROAD FE LINE AND COMPLEX X-RAY SPECTRUM OF THE SEYFERT 1 GALAXY MRK 290', 'JULIA C. LEE', 'STEVE SNOWDEN', 'HARVARD UNIVERSITY', '8/30/06', '8/1/06', '7/31/07', 'AWARDED', 'NO', 'no hits']"
       ]
      },
      {
       "output_type": "stream",
       "stream": "stdout",
       "text": [
        "\n",
        "['4200168466', 'NNX06AF16G', 'HQ', 'INTEGRATED LEARNING OF URBAN ENVIRONMENT', 'DR. WENGE NI-MEISTER', 'CARL PERSON', 'HUNTER COLLEGE OF THE CITY OF NEW YORK', '8/30/06', '7/26/06', '7/25/07', 'AWARDED', 'NO', [u'2010JHyd..387..212L']]"
       ]
      },
      {
       "output_type": "stream",
       "stream": "stdout",
       "text": [
        "\n",
        "['4200168213', 'NNX06AF17H', 'HQ', 'TROPICAL CYCLONE STRUCTURE AS SEEN BY THE TRMM PR AND RECENT FIELD', 'ROBERT HOUZE, JR.', 'DR. MING-YING WEI', 'UNIVERSITY OF WASHINGTON', '8/30/06', '9/1/06', '8/31/09', 'AWARDED', 'NO', [u'2008JGRD..11315108H']]"
       ]
      },
      {
       "output_type": "stream",
       "stream": "stdout",
       "text": [
        "\n",
        "['4200168100', 'NNX06AF21H', 'HQ', 'CONSERVATION OF DEGRADATION: THE IMPACT OF LAND COVER CHANGE ON THE OUTSTANDING UNIVERSAL VALUE OF W', 'JOHN TOWNSHEND', 'MING-YING WEI', 'UNIVERSITY OF MARYLAND, COLLEGE PARK', '8/30/06', '9/1/06', '8/31/09', 'AWARDED', 'NO', 'no hits']"
       ]
      },
      {
       "output_type": "stream",
       "stream": "stdout",
       "text": [
        "\n",
        "['4200168085', 'NNX06AF22H', 'HQ', 'MONITORING SEDIMENT RESUSPENSION IN CORAL REEFS AND SEAGRASS BEDS WITH MODIS AND ASTER SENSORS', 'DALE KIEFER', 'MING-YING WEI', 'UNIVERSITY OF SOUTHERN CALIFORNIA', '8/30/06', '9/1/06', '8/31/09', 'AWARDED', 'NO', 'no hits']"
       ]
      },
      {
       "output_type": "stream",
       "stream": "stdout",
       "text": [
        "\n",
        "['4200168631', 'NNX06AF75H', 'HQ', 'DIAGNOSTIC INVESTIGATION OF SATELLITE-OBSERVED AND MODEL-SIMULATED', 'V. RAMASWAMY', 'MING-YING WEI', 'PRINCETON UNIVERSITY', '8/30/06', '9/1/06', '8/31/09', 'AWARDED', 'NO', [u'2008GeoRL..3517803H']]"
       ]
      },
      {
       "output_type": "stream",
       "stream": "stdout",
       "text": [
        "\n",
        "['4200168629', 'NNX06AF83H', 'GSFC', 'PROFILES OF TROPICAL TEMPERATURE AND HUMIDITY VARIATIONS IN AIRS, IN SITU, AND CLIMATE MODEL DATA', 'J. DAVID NEELIN', 'MING-YING WEI', 'UNIVERSITY OF CALIFORNIA LOS ANGELES', '8/30/06', '9/1/06', '8/31/09', 'AWARDED', 'NO', 'no hits']"
       ]
      },
      {
       "output_type": "stream",
       "stream": "stdout",
       "text": [
        "\n",
        "['4200169896', 'NNX06AF89H', 'HQ', 'INTEGRATING REMOTELY-SENSED IMAGERY AND SOCIAL SURVEYS FOR SUSTAINABILITY: THE CASE OF US/MEXICO', 'JACK LIU', 'MING-YING WEI', 'MICHIGAN STATE UNIVERSITY', '8/30/06', '9/1/06', '8/31/09', 'AWARDED', 'NO', 'no hits']"
       ]
      },
      {
       "output_type": "stream",
       "stream": "stdout",
       "text": [
        "\n",
        "['4200168847', 'NNX06AF90H', 'HQ', 'CYCLING OF COLORED DISSOLVED ORGANIC MATTER IN THE OPEN OCEAN: APPLICATION OF PHOTOLYSIS MEASUREMEN', 'DAVID SIEGEL', 'MING-YING WEI', 'UNIVERSITY OF CALIFORNIA, SANTA BARBARA', '8/30/06', '9/1/06', '8/31/09', 'AWARDED', 'NO', 'no hits']"
       ]
      },
      {
       "output_type": "stream",
       "stream": "stdout",
       "text": [
        "\n",
        "['4200165299', 'NNX06AB10G', 'GSFC', 'RESHAPING COMPUTER ENGINEERING EDUCATION AND TRAINING IN THE INFORMATION ERA', 'KEN QING YANG', 'ROBERT GABRYS', 'UNIVERSITY OF RHODE ISLAND', '8/31/06', '10/1/06', '9/30/07', 'AWARDED', 'YES', 'no hits']"
       ]
      },
      {
       "output_type": "stream",
       "stream": "stdout",
       "text": [
        "\n",
        "['4200155792', 'NNX06AC30A', 'GSFC', 'THE NASA ENERGY AND WATER CYCLE STUDY SCIENCE INTEGRATION TEAM: MIT SUPPORTING ACTIVITIES AND RESEAR', 'ADAM SCHLOSSER', 'MICHAEL JASINSKI', 'MASSACHUSETTS INSTITUTE OF TECHNOLOGY', '8/31/06', '9/1/06', '8/31/11', 'AWARDED', 'NO', 'no hits']"
       ]
      },
      {
       "output_type": "stream",
       "stream": "stdout",
       "text": [
        "\n",
        "['4200162401', 'NNX06AD02G', 'GSFC', 'CENTER OF EXCELLENCE FOR TRACEABILITY', 'JANE HAYES', 'WESLEY DEADRICK', 'UNIVERSITY OF KENTUCKY', '8/31/06', '9/1/06', '8/31/07', 'AWARDED', 'NO', 'no hits']"
       ]
      },
      {
       "output_type": "stream",
       "stream": "stdout",
       "text": [
        "\n",
        "['4200165610', 'NNX06AD81G', 'HQ', 'INVESTIGATION OF PLASMA MASS DENSITY USING MULTIHARMONIC TORODIAL ALFVEN WAVES OBSERVED', 'KAZUE TAKAHASHI', 'CRAIG POLLOCK', 'JOHN HOPKINS UNIVERSITY', '8/31/06', '7/15/06', '7/14/07', 'AWARDED', 'NO', 'no hits']"
       ]
      },
      {
       "output_type": "stream",
       "stream": "stdout",
       "text": [
        "\n",
        "['4200165999', 'NNX06AD90G', 'GSFC', 'RECENT CLIMATE SHIFTS, CIRCULATION PATTERNS, AND CLIMATE-DRIVEN EROSION RECORDED IN THE MORPHOLOGY', 'PHILIP CHRISTENSEN', 'ROBERT FOGEL', 'ARIZONA STATE UNIVERSITY', '8/31/06', '9/1/06', '8/31/09', 'AWARDED', 'NO', 'no hits']"
       ]
      },
      {
       "output_type": "stream",
       "stream": "stdout",
       "text": [
        "\n",
        "['4200155527', 'NNX06AE67G', 'GSFC', 'OPTIMITIZATION OF NEUTRON-INDUCED MEASUREMENTS FOR ASTROBIOLOGICAL AND GEOCHEMICAL ANALYSES OF MARS', 'JEFFREY SCHWEITZER', 'JACK TROMBKA', 'UNIVERSITY OF CONNECTICUT', '8/31/06', '7/20/06', '7/19/07', 'AWARDED', 'NO', 'no hits']"
       ]
      },
      {
       "output_type": "stream",
       "stream": "stdout",
       "text": [
        "\n",
        "['4200168623', 'NNX06AF77H', 'HQ', 'VALIDATING SUPIXEL FIRE SIZES AND TEMPERATURES', 'DAR ROBERTS', 'MING-YING WEI', 'REGENTS OF THE UNIVERSITY OF CALIFORNIA', '8/31/06', '9/1/06', '8/31/09', 'AWARDED', 'NO', 'no hits']"
       ]
      },
      {
       "output_type": "stream",
       "stream": "stdout",
       "text": [
        "\n",
        "['4200168850', 'NNX06AF99H', 'HQ', 'ESTIMATING NORTH AMERICAN CARBON USING ICE SAT OBSERVATIONS', 'RALPH DUBAYAH', 'MING-YING WEI', 'UNIVERSITY OF MARYLAND, COLLEGE PARK-OFFICE OF SPO', '8/31/06', '9/1/06', '8/31/09', 'AWARDED', 'NO', 'no hits']"
       ]
      },
      {
       "output_type": "stream",
       "stream": "stdout",
       "text": [
        "\n",
        "['4200170122', 'NNX06AG26H', 'GSFC', 'EFFICACY OF RESISTANCE EXERCISE COUPLED WITH BLOOD FLOW RESTRICTION AS A COUNTERMEASURE TO UNILATERA', 'LORI PLOUTZ-SNYDER', 'KATIE BLANDING', 'SYRACUSE UNIVERSITY', '8/31/06', '8/7/06', '8/6/09', 'AWARDED', 'NO', 'no hits']"
       ]
      },
      {
       "output_type": "stream",
       "stream": "stdout",
       "text": [
        "\n",
        "['4200165295', 'NNX06AG63G', 'GSFC', 'BRONX COMMUNITY COLLEGE NASA EDUCATION PROGRAM', 'MICHAEL SELIGER', 'ANISA AHMAD', 'BRONX COMMUNITY COLLEGE', '8/31/06', '10/1/06', '9/30/07', 'AWARDED', 'YES', 'no hits']"
       ]
      },
      {
       "output_type": "stream",
       "stream": "stdout",
       "text": [
        "\n",
        "['4200165294', 'NNX06AG65G', 'GSFC', 'ENHANCING PHYSICAL SCIENCES AND HUMAN FACTORS EDUCATION', 'FREDERICK BONATO', 'ARLENE BIGEL', \"ST. PETER'S COLLEGE, NEW JERSEY\", '8/31/06', '10/1/06', '9/30/07', 'AWARDED', 'YES', 'no hits']"
       ]
      },
      {
       "output_type": "stream",
       "stream": "stdout",
       "text": [
        "\n",
        "['4200165297', 'NNX06AG66G', 'GSFC', 'SCIENTIFIC REASONING INQUIRY BASED EDUCATION (SCRIBE) INITIATIVE', 'MATT BAKER', 'BETH BROWN', 'PHILADELPHIA UNIVERSITY', '8/31/06', '9/1/06', '8/31/07', 'AWARDED', 'YES', 'no hits']"
       ]
      },
      {
       "output_type": "stream",
       "stream": "stdout",
       "text": [
        "\n",
        "['4200164377', 'NNX06AD61G', 'DFRC', 'CAMPUS HIGH SPEED NETWORK: EQUIPMENT REPLACEMENT AND ENHANCEMENT', 'HAMID ETESAMNIA', 'MIRIAM RODON', 'UNIVERSITY OF REDLANDS', '9/1/06', '7/25/06', '7/24/07', 'AWARDED', 'YES', 'no hits']"
       ]
      },
      {
       "output_type": "stream",
       "stream": "stdout",
       "text": [
        "\n",
        "['4200158228', 'NNX06AD84H', 'GSFC', 'MODELING DEBRIS DISK STRUCTURE CREATED BY TERRESTRIAL MASS PLANETS - CHRISTOPHER STARK', 'DOUGLAS HAMILTON', 'MABLELENE BURRELL', 'UNIVERSITY OF MARYLAND', '9/1/06', '8/15/06', '8/14/09', 'AWARDED', 'NO', 'no hits']"
       ]
      },
      {
       "output_type": "stream",
       "stream": "stdout",
       "text": [
        "\n",
        "['4200165994', 'NNX06AD97G', 'GSFC', 'MARTIAN AURORAE FROM ACCELERATION TO EMISSION', 'DAVID BRAIN', 'ROBERT FOGEL', 'THE REGENTS OF THE UNIVERSITY OF CALIFORNIA', '9/1/06', '7/13/06', '7/12/09', 'AWARDED', 'NO', [u'2010P&SS...58.1139O', u'2010Icar..206..112F', u'2010Icar..206..139B']]"
       ]
      },
      {
       "output_type": "stream",
       "stream": "stdout",
       "text": [
        "\n",
        "['4200167447', 'NNX06AE44G', 'GSFC', 'IMPLEMENTATION ISSUES AND VALIDATION OF SIGMA IN SPACE NETWORK ENVIRONMENT', 'MOHAMMED ATIQUZZAMAN', 'DAVID ERCEGOVIC', 'UNIVERSITY OF OKLAHOMA', '9/1/06', '12/1/06', '11/30/09', 'AWARDED', 'NO', 'no hits']"
       ]
      },
      {
       "output_type": "stream",
       "stream": "stdout",
       "text": [
        "\n",
        "['4200169327', 'NNX06AE51H', 'HQ', 'DESIGN AND DEVELOPMENT OF COMPLEMENTARY-CODED PULSE RADAR FOR ICE MEASUREMENT', 'SIVAPRASAD GOGINENI', 'MING-YING WEI', 'UNIVERSITY OF KANSAS CENTER FOR RESEARCH, INC', '9/1/06', '9/1/06', '8/31/09', 'AWARDED', 'NO', 'no hits']"
       ]
      },
      {
       "output_type": "stream",
       "stream": "stdout",
       "text": [
        "\n",
        "['4200163509', 'NNX06AE68H', 'GSFC', 'THE EVOLUTION OF SOLAR PROMINENCES', 'DAVID ALEXANDER', 'MABLELENE BURRELL', 'RICE UNIVERSITY', '9/1/06', '7/20/06', '7/19/09', 'AWARDED', 'NO', 'no hits']"
       ]
      },
      {
       "output_type": "stream",
       "stream": "stdout",
       "text": [
        "\n",
        "['4200167527', 'NNX06AE73A', 'GSFC', 'CIRS PROPOSAL', 'TOBIAS OWEN', 'G. L. BJORAKER', 'UNIVERSITY OF HAWAII', '9/1/06', '8/1/06', '7/31/10', 'AWARDED', 'NO', 'no hits']"
       ]
      },
      {
       "output_type": "stream",
       "stream": "stdout",
       "text": [
        "\n",
        "['4200168302', 'NNX06AE75G', 'GSFC', 'MASS CONSTRAINTS ON HIGH REDSHIFT CLUSTERS OF GALAXIES WITH XMM-NEWTON', 'CRAIG SARAZIN', 'STEVE SNOWDON', 'UNIVERSITY OF VIRGINIA', '9/1/06', '8/1/06', '7/31/07', 'AWARDED', 'NO', 'no hits']"
       ]
      },
      {
       "output_type": "stream",
       "stream": "stdout",
       "text": [
        "\n",
        "['4200167693', 'NNX06AE84G', 'HQ', 'CONSTRAINING NORTH AMERICAN FLUXES OF CARBON DIOXIDE AND INFERRING THEIR', 'ANNA MICHALAK', 'B. EMANUEL', 'UNIVERSITY OF MICHIGAN', '9/1/06', '9/1/06', '8/31/09', 'AWARDED', 'NO', [u'2012BGeo....9..457G', u'2011BGD.....8.6775G', u'2011BGeo....8.1579H', u'2010BGD.....7.7903H', u'2010BGeo....7.2655Y', u'2010GBioC..24.3023M', u'2010ACP....10.6151G', u'2010BGD.....7.1445Y', u'2009ACPD....922407G', u'2008ACP.....8.6789M', u'2008JGRD..11321114M', u'2008JGRD..11321115G']]"
       ]
      },
      {
       "output_type": "stream",
       "stream": "stdout",
       "text": [
        "\n",
        "['4200168168', 'NNX06AF03G', 'GSFC', 'THE RELATIVISTIC IRON EMISSION LINE--APO IN GRS 1915+105', 'JON MILLER', 'STEVEN SNOWDEN', 'UNIVERSITY OF MICHIGAN', '9/1/06', '7/27/06', '7/26/07', 'AWARDED', 'NO', 'no hits']"
       ]
      },
      {
       "output_type": "stream",
       "stream": "stdout",
       "text": [
        "\n",
        "['4200167040', 'NNX06AF13G', 'GSFC', 'UNDERSTANDING HYDROLOGIC SCALING IN VARIED LANDSCAPES FOR IMPROVED REALISM IN GLOBAL SIMULATION MODE', 'R. EDWARD BEIGHLEY', 'MING-YING WEI', 'SAN DIEGO STATE UNIVERSITY', '9/1/06', '8/1/06', '7/31/09', 'AWARDED', 'NO', 'no hits']"
       ]
      },
      {
       "output_type": "stream",
       "stream": "stdout",
       "text": [
        "\n",
        "['4200168327', 'NNX06AF19H', 'HQ', 'HETEROGENEOUS ORGANIC OXIDATION REACTIONS RELEVANT TO TROPOSIPHERIC CHEMISTRY', 'FRANZ GEIGER', 'MING-YING WEI', 'NORTHWESTERN UNIVERSITY', '9/1/06', '9/1/06', '8/31/09', 'AWARDED', 'NO', 'no hits']"
       ]
      },
      {
       "output_type": "stream",
       "stream": "stdout",
       "text": [
        "\n",
        "['4200167497', 'NNX06AF20H', 'HQ', 'MULTI-SENSOR APPROACH FOR MONITORING FIRE', 'JOHN QU', 'MING-YING WEI', 'GEORGE MASON UNIVERSITY', '9/1/06', '9/1/06', '8/31/09', 'AWARDED', 'NO', 'no hits']"
       ]
      },
      {
       "output_type": "stream",
       "stream": "stdout",
       "text": [
        "\n",
        "['4200168098', 'NNX06AF23H', 'GSFC', 'PROPAGATION OF UNCERTAINTY IN RAINFALL ESTIMATES FROM REMOTE SENSORS IN SPATIO-TEMPORAL HYDROLOGIC', 'WITOLD KRAJEWSKI', 'MING-YING WEI', 'UNIVERSITY OF IOWA', '9/1/06', '9/1/06', '8/31/09', 'AWARDED', 'NO', [u'2010JHyd..394..275V', u'2010SGeo...31..107V', u'2008JGRD..11311102V', u'2007AtmRe..86..340V']]"
       ]
      },
      {
       "output_type": "stream",
       "stream": "stdout",
       "text": [
        "\n",
        "['4200168084', 'NNX06AF24H', 'GSFC', 'AN ERROR ANALYSIS OF GNSS-R DERIVED ROUGHNESS CORRECTIONS TO SALINITY RETRIEVALS FROM PASSIVE MICROW', 'JAMES GARRISON', 'MING-YING WEI', 'PURDUE UNIVERSITY', '9/1/06', '9/1/06', '8/31/09', 'AWARDED', 'NO', 'no hits']"
       ]
      },
      {
       "output_type": "stream",
       "stream": "stdout",
       "text": [
        "\n",
        "['4200171486', 'NNX06AF28G', 'SSC', 'THE ON TARGET GEOSPATIAL TOOL KIT: EXPANDING IMPACTS TO RURAL AMERICA', 'PHILIP RASMUSSEN', 'WILLIAM GRAHAM', 'UTAH STATE UNIVERSITY', '9/1/06', '8/14/06', '8/13/07', 'AWARDED', 'YES', 'no hits']"
       ]
      },
      {
       "output_type": "stream",
       "stream": "stdout",
       "text": [
        "\n",
        "['4200171486', 'NNX06AF28G', 'SSC', 'THE ON TARGET GEOSPATIAL TOOL KIT: EXPANDING IMPACTS TO RURAL AMERICA', 'PHILIP RASMUSSEN', 'WILLIAM GRAHAM', 'UTAH STATE UNIVERSITY', '9/1/06', '8/14/06', '8/13/07', 'AWARDED', 'YES', 'no hits']"
       ]
      },
      {
       "output_type": "stream",
       "stream": "stdout",
       "text": [
        "\n",
        "['4200168975', 'NNX06AF55H', 'GSFC', 'COMBINING ALTIMETRY, SCATTEROMETRY AND OCEAN COLOR WITH IN SITU SEAGLIDER MEASUREMENTS', 'STEVEN EMERSON', 'MING-YING WEI', 'UNIVERSITY OF WASHINGTON', '9/1/06', '9/1/06', '8/31/09', 'AWARDED', 'NO', 'no hits']"
       ]
      },
      {
       "output_type": "stream",
       "stream": "stdout",
       "text": [
        "\n",
        "['4200169330', 'NNX06AF57H', 'HQ', 'HOW DO CHANGES TO THE URBAN ENVIRONMENT AFFECT PRECIPITATION AND AIR QUALITY', 'DALE ALLEN', 'MING-YING WEI', 'UNIVERSITY OF MARYLAND, COLLEGE PARK', '9/1/06', '9/1/06', '8/31/09', 'AWARDED', 'NO', 'no hits']"
       ]
      },
      {
       "output_type": "stream",
       "stream": "stdout",
       "text": [
        "\n",
        "['4200170246', 'NNX06AF62G', 'GSFC', 'THE X-RAY STAR FORMATION RATE', 'ANDREW PTAK', 'STEVE SNOWDEN', 'JOHNS HOPKINS UNIVERSITY', '9/1/06', '8/7/06', '8/6/07', 'AWARDED', 'NO', 'no hits']"
       ]
      },
      {
       "output_type": "stream",
       "stream": "stdout",
       "text": [
        "\n",
        "['4200169918', 'NNX06AF64H', 'GSFC', 'THE FREQUENCY OF TROPICAL PRECIPITATION AS OBSERVED BY THE TRMM PR AND ICESAT/GLAS', 'ANDREW DESSLER', 'MING-YING WEI', 'TEXAS A&M UNIVERSITY RESEARCH FOUNDATION', '9/1/06', '9/1/06', '8/31/09', 'AWARDED', 'NO', [u'2007JGRD..11214215C']]"
       ]
      },
      {
       "output_type": "stream",
       "stream": "stdout",
       "text": [
        "\n",
        "['4200169174', 'NNX06AF66H', 'HQ', 'REMOTE SENSING, GIS AND FIELD TECHNIQUES FOR STUDYING GLACIER CHANGES IN INDIAN HIMALAYAS', 'MARK WILLIAMS', 'MING-YING WEI', 'UNIVERSITY OF COLORADO', '9/1/06', '9/1/06', '8/31/09', 'AWARDED', 'NO', 'no hits']"
       ]
      },
      {
       "output_type": "stream",
       "stream": "stdout",
       "text": [
        "\n",
        "['4200169178', 'NNX06AF67H', 'GSFC', 'CHARACTERIZATION OF THE PHYSICAL PROPERTIES OF THE SNOWPACK AT VERY HIGH-RESOLUTION USING RF WIRELES', 'ANA BARROS', 'MING-YING WEI', 'DUKE UNIVERSITY', '9/1/06', '9/1/06', '8/31/09', 'AWARDED', 'NO', 'no hits']"
       ]
      },
      {
       "output_type": "stream",
       "stream": "stdout",
       "text": [
        "\n",
        "['4200169160', 'NNX06AF69H', 'HQ', 'TROPICAL CONVECTION AND THE DISTRIBUTION OF UPPER TROPOSPHERIC RELATIVE HUMIDITY', 'DENNIS HARTMANN', 'MING-YING WEI', 'UNIVERSITY OF WASHINGTON', '9/1/06', '9/1/06', '8/31/09', 'AWARDED', 'NO', [u'2010JGRD..11516117Z']]"
       ]
      },
      {
       "output_type": "stream",
       "stream": "stdout",
       "text": [
        "\n",
        "['4200169172', 'NNX06AF71H', 'GSFC', 'DATA MINING OF CO-EVOLVING VARIABLES FOR UNDERSTANDING MULTI-SCALE DEPENDENTS IN REMOTE-SENSING DATA', 'PRAVEEN KUMAR', 'MING-YING WEI', 'UNIVERSITY OF ILLINOIS AT URBANA', '9/1/06', '9/1/06', '8/31/09', 'AWARDED', 'NO', [u'2009WRR....45.3419R', u'2009WRR....45.3420R']]"
       ]
      },
      {
       "output_type": "stream",
       "stream": "stdout",
       "text": [
        "\n",
        "['4200169919', 'NNX06AF79H', 'HQ', 'REMOTE SENSING OF KELP HABITATS IN THE SANTA BARBARA CHANNEL USING SPOT IMAGERY', 'DAVID SIEGEL', 'MING-YING WEI', 'THE REGENTS OF THE UNIVERSITY OF CALIFORNIA', '9/1/06', '9/1/06', '8/31/09', 'AWARDED', 'NO', 'no hits']"
       ]
      },
      {
       "output_type": "stream",
       "stream": "stdout",
       "text": [
        "\n",
        "['4200169921', 'NNX06AF82H', 'GSFC', 'WEATHER AND CLIMATE VARIATIONS ASSOCIATED WITH THE GREAT SALT LAKE', 'JOHN HOREL', 'MING-YING WEI', 'THE UNIVERSITY OF UTAH', '9/1/06', '9/1/06', '8/31/09', 'AWARDED', 'NO', 'no hits']"
       ]
      },
      {
       "output_type": "stream",
       "stream": "stdout",
       "text": [
        "\n",
        "['4200169900', 'NNX06AF84H', 'GSFC', 'REMOTE SENSING OF ESSENTIAL DRIVERS OF WHITE SAND SYSTEMS IN THE BRAZILIAN AMAZON LANDSAT AND MODIS', 'STUART PIMM', 'MING-YING WEI', 'DUKE UNIVERSITY', '9/1/06', '9/1/06', '8/31/09', 'AWARDED', 'NO', 'no hits']"
       ]
      },
      {
       "output_type": "stream",
       "stream": "stdout",
       "text": [
        "\n",
        "['4200169897', 'NNX06AF86H', 'HQ', 'MULTI-DECADAL, MULTI-SENSOR INVESTIGATION OF PRIMARY PRODUCTION WITHIN THE ANTARCTIC ICE PACK', 'KEVIN ARRIGO', 'MING-YING WEI', 'SANFORD UNIVERSITY', '9/1/06', '9/1/06', '8/31/09', 'AWARDED', 'NO', 'no hits']"
       ]
      },
      {
       "output_type": "stream",
       "stream": "stdout",
       "text": [
        "\n",
        "['4200169901', 'NNX06AF87H', 'HQ', 'UNITED STATES LAND COVER LAND USE CHANGE, ALBEDO AND RADIATIVE FORCING:', 'DAVID ROY', 'MING-YING WEI', 'SOUTH DAKOTA STATE UNIVERSITY', '9/1/06', '9/1/06', '8/31/09', 'AWARDED', 'NO', [u'2010JGRG..115.4033B']]"
       ]
      },
      {
       "output_type": "stream",
       "stream": "stdout",
       "text": [
        "\n",
        "['4200168853', 'NNX06AF92H', 'GSFC', 'USING MULTI-SENSOR DATA FUSION TO ESTIMATE DUST AEROSOL COMPOSITION AND ITS AFFECT ON LONGWAVE RADIA', 'MICHAEL RAMSEY/STEPHEN SCHEIDT', 'MING-YING WEI', 'UNIVERSITY OF PITTSBURGH', '9/1/06', '9/1/06', '8/31/09', 'AWARDED', 'NO', [u'2010JGRF..115.2019S']]"
       ]
      },
      {
       "output_type": "stream",
       "stream": "stdout",
       "text": [
        "\n",
        "['4200168807', 'NNX06AF94H', 'GSFC', 'ARE THERE SYSTEMATIC AND DISTINCTIVE CONVECTIVE SIGNATURE IN PRE-TROPICAL CYCLONE DISTURBANCES?', 'EDWARD ZIPSER', 'MING-YING WEI', 'UNIVERSITY OF UTAH MEDICAL CENTER', '9/1/06', '9/1/06', '8/31/09', 'AWARDED', 'NO', 'no hits']"
       ]
      },
      {
       "output_type": "stream",
       "stream": "stdout",
       "text": [
        "\n",
        "['4200168625', 'NNX06AF98H', 'HQ', 'IMPROVING VALIDATION OF MODIS CLOUD ICE CRYSTAL DATA PRODUCTS USING THE HOLODEC INSTRUMENT', 'RAYMOND SHAW', 'MING-YING WEI', 'MICHIGAN TECHNOLOGICAL UNIVERSITY', '9/1/06', '9/1/06', '8/31/09', 'AWARDED', 'NO', 'no hits']"
       ]
      },
      {
       "output_type": "stream",
       "stream": "stdout",
       "text": [
        "\n",
        "['4200169324', 'NNX06AG08H', 'HQ', 'AMSR-E DERIVED SNOWMELT AND IMPLICATIONS FOR GLACIAL HYDROLOGY, ALASKA', 'JOAN RAMAGE', 'MING-YING WEI', 'LEHIGH UNIVERSITY', '9/1/06', '9/1/06', '8/31/09', 'AWARDED', 'NO', 'no hits']"
       ]
      },
      {
       "output_type": "stream",
       "stream": "stdout",
       "text": [
        "\n",
        "['4200168977', 'NNX06AG09H', 'HQ', 'COMBINED INSAR AND SEISMIC STUDIES OF RUPTURE DYNAMICS AND FAULT ZONE RHEOLOGY', 'MARK SIMONS', 'MING-YING WEI', 'CALIFORNIA INSTITUTE OF TECHNOLOGY', '9/1/06', '9/1/06', '8/31/09', 'AWARDED', 'NO', 'no hits']"
       ]
      },
      {
       "output_type": "stream",
       "stream": "stdout",
       "text": [
        "\n",
        "['4200169012', 'NNX06AG10H', 'HQ', 'UNDERSTANDIG DYNAMIC PROCESSES OF WATER QUALITY IN LAKE ERIE FROM MODIS TIME-SERIES DATA', 'CAROLYN MERRY', 'MING-YING WEI', 'OHIO STATE UNIVERSITY RESEARCH FOUNDATION', '9/1/06', '9/1/06', '8/31/09', 'AWARDED', 'NO', 'no hits']"
       ]
      },
      {
       "output_type": "stream",
       "stream": "stdout",
       "text": [
        "\n",
        "['4200168979', 'NNX06AG15H', 'HQ', 'DEVELOPMENT OF A FOLLOW-ON GRAVITY MISSION TO GRACE', 'ROBERT NEREM', 'MING-YING WEI', 'UNIVERSITY OF COLORADO AT BOULDER', '9/1/06', '9/1/06', '8/31/09', 'AWARDED', 'NO', 'no hits']"
       ]
      },
      {
       "output_type": "stream",
       "stream": "stdout",
       "text": [
        "\n",
        "['4200170123', 'NNX06AG28H', 'HQ', 'LINKAGE BETWEEN NORTH AMERICAN CLIMATE, ATMOSPHERIC WAVE DYNAMICS AND LAND SURFACE BOUNDARIES', 'GAVIN GONG', 'MING-YING WEI', 'COLUMBIA UNIVERSITY', '9/1/06', '9/1/06', '8/31/09', 'AWARDED', 'NO', 'no hits']"
       ]
      },
      {
       "output_type": "stream",
       "stream": "stdout",
       "text": [
        "\n",
        "['4200170696', 'NNX06AG35G', 'GSFC', 'THE GW-GRD PROJECT', 'KALVIR DHUGA', 'NEIL GEHRELS', 'THE GEORGE WASHINGTON UNIVERSITY', '9/1/06', '8/14/06', '8/13/08', 'AWARDED', 'NO', 'no hits']"
       ]
      },
      {
       "output_type": "stream",
       "stream": "stdout",
       "text": [
        "\n",
        "['4200165150', 'NNX06AG69G', 'GSFC', 'PREPARING ELEMENTARY TEACHERS TO TEACH SCIENCE PROGRAM', 'PETER HOLDEN', 'BETH BROWN', 'WHEELOCK COLLEGE', '9/1/06', '9/1/06', '8/31/07', 'AWARDED', 'YES', 'no hits']"
       ]
      },
      {
       "output_type": "stream",
       "stream": "stdout",
       "text": [
        "\n",
        "['4200166043', 'NNX06AD35A', 'GSFC', 'INFORMATION TECHNOLOGY SUPPORT TO NASA GSFC EARTH SCIENCES DATA', 'DR. LIPING DI', 'STEVEN KEMPLER', 'GEORGE MASON UNIVERSITY', '9/5/06', '7/17/06', '7/16/09', 'AWARDED', 'NO', [u'2009CG.....35..419C']]"
       ]
      },
      {
       "output_type": "stream",
       "stream": "stdout",
       "text": [
        "\n",
        "['4200165989', 'NNX06AD98G', 'HQ', 'ENPLACEMENT OF LEVEED LAVA FLOWS ON MARS', 'STEPHEN BALOGA', 'ROBERT FOGEL', 'PROXEMY RESEARCH, INC.', '9/5/06', '7/13/06', '7/12/09', 'AWARDED', 'NO', 'no hits']"
       ]
      },
      {
       "output_type": "stream",
       "stream": "stdout",
       "text": [
        "\n",
        "['4200167535', 'NNX06AE42G S01', 'GSFC', 'SUPPLEMENTAL ADMINISTRATIVE CHANGE TO THE TECHNICAL OFFICER', 'WENZHAN SONG', 'ROBERT CARVALHO', 'WASHINGTON STATE UNIVERSITY', '9/5/06', '1/1/07', '12/31/10', 'AWARDED', 'NO', 'no hits']"
       ]
      },
      {
       "output_type": "stream",
       "stream": "stdout",
       "text": [
        "\n",
        "['4200167445', 'NNX06AE45G S01', 'GSFC', 'SUPPLEMENTAL ADMINISTRATIVE CHANGE FOR TECHNICAL OFFICER', 'PAUL HOUSER', 'VICKI OXENHAM', 'INSTITUTE OF GLOBAL ENVIRONMENT & SOCIETY, INC.', '9/5/06', '9/1/06', '8/31/09', 'AWARDED', 'NO', 'no hits']"
       ]
      },
      {
       "output_type": "stream",
       "stream": "stdout",
       "text": [
        "\n",
        "['4200167537', 'NNX06AE46G S01', 'GSFC', 'SUPPLEMENTAL ADMINISTRATIVE CHANGE FOR TECHNICAL OFFICER', 'AARON FALK', 'ROBERT SHERWOOD', 'UNIVERSITY OF SOUTHERN CALIFORNIA', '9/5/06', '10/1/06', '9/30/09', 'AWARDED', 'NO', 'no hits']"
       ]
      },
      {
       "output_type": "stream",
       "stream": "stdout",
       "text": [
        "\n",
        "['4200167444', 'NNX06AE48G', 'GSFC', 'USING INTELLIGENT AGENTS TO FORM A SENSOR WEB FOR AUTONOMOUS MISSION OPERATIONS', 'KENNETH WITT', 'VICKI OXENHAM', 'ISR, INSTITUTE FOR SCIENTIFIC RESEARCH', '9/5/06', '9/1/06', '8/31/09', 'AWARDED', 'NO', 'no hits']"
       ]
      },
      {
       "output_type": "stream",
       "stream": "stdout",
       "text": [
        "\n",
        "['4200167532', 'NNX06AE50G S01', 'GSFC', 'SUPPLEMENTAL ADMINISTRATIVE CHANGE TO ADD ADDITIONAL REPORTING', 'AYANNA HOWARD', 'DAVID ERCEGOVIC', 'GEORGIA TECH RESEARCH CORPORATION', '9/5/06', '9/15/06', '9/14/09', 'AWARDED', 'NO', 'no hits']"
       ]
      },
      {
       "output_type": "stream",
       "stream": "stdout",
       "text": [
        "\n",
        "['4200168898', 'NNX06AF26G', 'GSFC', 'SEAMONSTER: A SMART SENSOR WEB IN SOUTHEAST ALASKA', 'DR. MATT HEAVNER', 'ROBERT CARVALHO', 'UNIVERSITY OF ALASKA SOUTHEAST', '9/5/06', '9/1/06', '8/31/09', 'AWARDED', 'NO', 'no hits']"
       ]
      },
      {
       "output_type": "stream",
       "stream": "stdout",
       "text": [
        "\n",
        "['4200169229', 'NNX06AF29G', 'GSFC', 'AN OBJECTIVELY OPTIMIZED SENSOR WEB', 'DAVID JOHN LARY', 'VICKI OXENHAM', 'UNIVERSITY OF MARYLAND-BALTIMORE COUNTY', '9/5/06', '8/31/06', '8/30/09', 'AWARDED', 'NO', 'no hits']"
       ]
      },
      {
       "output_type": "stream",
       "stream": "stdout",
       "text": [
        "\n",
        "['4200173260', 'NNX06AC77G', 'GSFC', 'EQUIPPING SCIENCE EDUCATION FOR THE 21ST CENTURY', 'PATTY ROBERTS', 'JOHN LEE', 'CENTENARY COLLEGE OF LOUISIANA', '9/6/06', '8/22/06', '8/21/07', 'AWARDED', 'YES', 'no hits']"
       ]
      },
      {
       "output_type": "stream",
       "stream": "stdout",
       "text": [
        "\n",
        "['4200167538', 'NNX06AE49G', 'GSFC', 'EFFICIENT SENSOR WEB COMMUNICATIONS STRATEGIES BASED ON JOINTLY OPTIMIZED DISTRIBUTED WAVELET TRANSF', 'ANTONIO ORTEGA', 'ROBERT SHERWOOD', 'UNIVERSITY OF SOUTHERN CALIFORNIA', '9/6/06', '10/1/06', '9/30/09', 'AWARDED', 'NO', 'no hits']"
       ]
      },
      {
       "output_type": "stream",
       "stream": "stdout",
       "text": [
        "\n",
        "['4200164379', 'NNX06AE59G', 'DFRC', 'ARIZONA MATH AND SCIENCE LEADERSHIP INITIATIVE', 'RICHARD BLOOM', 'MIRIAM RODON', 'EMBRY-RIDDLE AERONAUTICAL UNIVERSITY', '9/6/06', '10/1/06', '9/30/09', 'AWARDED', 'YES', 'no hits']"
       ]
      },
      {
       "output_type": "stream",
       "stream": "stdout",
       "text": [
        "\n",
        "['4200167034', 'NNX06AF11G', 'HQ', 'ASSESSING THE VOLUME AND TOPOGRAPHIC CONTEXT OF TROPICAL GLACIER RECESSION', 'BRYAN MARK', 'MING-YING WEI', 'OHIO STATE UNIVERSITY', '9/6/06', '8/1/06', '7/31/09', 'AWARDED', 'NO', 'no hits']"
       ]
      },
      {
       "output_type": "stream",
       "stream": "stdout",
       "text": [
        "\n",
        "['4200168923', 'NNX06AF27G', 'GSFC', 'TELESUPERVISED ADAPTIVE OCEAN SENSOR FLEET', 'JOHN DOLAN', 'VICKIE OXENHAM', 'CARNEGIE MELLON UNIVERSITY', '9/6/06', '9/5/06', '9/4/09', 'AWARDED', 'NO', 'no hits']"
       ]
      },
      {
       "output_type": "stream",
       "stream": "stdout",
       "text": [
        "\n",
        "['4200170288', 'NNX06AG04G', 'GSFC', 'A GENERAL FRAMEWORK AND SYSTEM PROTYPES FOR THE SELF-ADAPTIVE EARTH PREDICTIVE SYSTEMS (SEPS)--DYNAM', 'LIPING DI', 'VICKI OXENHAM', 'GEORGE MASON UNIVERSITY', '9/6/06', '9/5/06', '9/4/09', 'AWARDED', 'NO', [u'2012CG.....47...87Y', u'2012CG.....47..102Y', u'2010CG.....36..362C', u'2009CG.....35..360C']]"
       ]
      },
      {
       "output_type": "stream",
       "stream": "stdout",
       "text": [
        "\n",
        "['4200170745', 'NNX06AG29G', 'GSFC', 'ENRICHMENT AND COOLING IN THE CENTAURUS CLUSTER', 'STEVEN ALLEN', 'STEVEN SNOWDEN', 'STANFORD UNIVERSITY', '9/6/06', '8/15/06', '8/14/07', 'AWARDED', 'NO', 'no hits']"
       ]
      },
      {
       "output_type": "stream",
       "stream": "stdout",
       "text": [
        "\n",
        "['4200167535', 'NNX06AE42G S02', 'GSFC', 'SUPPLEMENT ADMINISTRATIVE CHANGE FOR POP', 'WENZHAN SONG', 'ROBERT CARVALHO', 'WASHINGTON STATE UNIVERSITY', '9/7/06', '1/1/07', '12/31/09', 'AWARDED', 'NO', 'no hits']"
       ]
      },
      {
       "output_type": "stream",
       "stream": "stdout",
       "text": [
        "\n",
        "['4200164375', 'NNX06AE61G', 'DFRC', 'PROJECT PLANET: PLANETARIUM LEARNING AND NEW EDUCATION TECHNOLOGY', 'STACY PALEN', 'ANITA SOHUS', 'WEBER STATE UNIVERSITY', '9/7/06', '10/1/06', '9/30/07', 'AWARDED', 'YES', [u'2009A&A...497..583Z', u'2007AAS...21011603P']]"
       ]
      },
      {
       "output_type": "stream",
       "stream": "stdout",
       "text": [
        "\n",
        "['4200170209', 'NNX06AF74G', 'GSFC', 'A SMART SENSOR WEB FOR OCEAN OBSERVATION: SYSTEM DESIGN, MODELING, AND OPTIMIZATION', 'PAYMAN ARABSHAHI', 'ROBERT CARVALHO', 'UNIVERSITY OF WASHINGTON', '9/7/06', '9/6/06', '9/5/09', 'AWARDED', 'NO', 'no hits']"
       ]
      },
      {
       "output_type": "stream",
       "stream": "stdout",
       "text": [
        "\n",
        "['4200169899', 'NNX06AF78H', 'HQ', '3-D SURFACE AND SUBSURFACE DEFORMATION MODELING OF FUEGO VOLCANO, GUATEMALA USING ASTER, ERS 1/2', 'JOSE HURTADO', 'MING-YING WEI', 'UNIVERSITY OF TEXAS EL PASO', '9/7/06', '1/1/07', '12/31/09', 'AWARDED', 'NO', 'no hits']"
       ]
      },
      {
       "output_type": "stream",
       "stream": "stdout",
       "text": [
        "\n",
        "['4200168810', 'NNX06AF91H', 'GSFC', 'MAPPING HABITAT FOR THE IVORY-BILLED WOODPECKER AND THE CALIFORNIA SPOTTED OWL', 'RALPH DUBAYAH', 'MING-YING WEI', 'UNIVERSITY OF MARYLAND, COLLEGE PARK', '9/7/06', '9/1/06', '8/31/09', 'AWARDED', 'NO', 'no hits']"
       ]
      },
      {
       "output_type": "stream",
       "stream": "stdout",
       "text": [
        "\n",
        "['4200170728', 'NNX06AG32G', 'GSFC', 'NEON IN LOW ACTIVITY SUNS AND SOLAR MODEL PROBLEM', 'JEREMY DRAKE', 'STEVEN SNOWDEN', 'SMITHSONIAN ASTROPHYSICAL OBSERVATORY', '9/7/06', '8/15/06', '8/14/07', 'AWARDED', 'NO', 'no hits']"
       ]
      },
      {
       "output_type": "stream",
       "stream": "stdout",
       "text": [
        "\n",
        "['4200165301', 'NNX06AG68G', 'GSFC', 'CHALLENGER LEARNING CENTER SIMULATOR', 'PHYLLIS MARCUS', 'JOSEPH F. DOLAN', 'CHALLENGER LEARNING CENTER OF THE TWIN TIER REGION', '9/7/06', '10/1/06', '9/30/07', 'AWARDED', 'YES', 'no hits']"
       ]
      },
      {
       "output_type": "stream",
       "stream": "stdout",
       "text": [
        "\n",
        "['4200172458', 'NNX06AG80G', 'HQ', 'ENHANCED NASA REGOLITH EXCAVATION CENTENNIAL CHALLENGE USING JSC-1 A LUNAR SIMULANT', 'MATT EVERINGHAM', 'BARRY EPSTEIN', 'CALIFORNIA SPACE EDUCATION AND WORKFORCE INSTITUTE', '9/7/06', '9/1/06', '8/31/07', 'AWARDED', 'NO', 'no hits']"
       ]
      },
      {
       "output_type": "stream",
       "stream": "stdout",
       "text": [
        "\n",
        "['4200170940', 'NNX06AG84G', 'GSFC', 'RELATIONS BETWEEN HIGH ENERGY AND LOWER-FREQUENCY EMISSION IN BLAZARS', 'MARGO ALLER', 'PATRICIA BOYD', 'THE REGENTS OF THE UNIVERSITY OF MICHIGAN', '9/7/06', '8/15/06', '8/14/07', 'AWARDED', 'NO', 'no hits']"
       ]
      },
      {
       "output_type": "stream",
       "stream": "stdout",
       "text": [
        "\n",
        "['4200170740', 'NNX06AG90G', 'GSFC', \"ANTECEDENT SOIL MOISTURE'S INFLUENCE ON REGIONAL HYDROCLIMATE VARIABILITY\", 'SUMANT NIGAM', 'BHASKAR CHOUDHURY', 'UNIVERSITY OF MARYLAND', '9/7/06', '8/9/06', '8/8/07', 'AWARDED', 'NO', 'no hits']"
       ]
      },
      {
       "output_type": "stream",
       "stream": "stdout",
       "text": [
        "\n",
        "['4200164818', 'NNX06AD63A', 'GSFC', 'DEVELOPMENT AND DEPLOYMENT OF A CEOP SATELLITE DATA SERVER', 'DANIEL HOLLOWAY', 'KENNETH MCDONALD', 'OPENDAP, INC', '9/8/06', '7/7/06', '7/6/08', 'AWARDED', 'NO', 'no hits']"
       ]
      },
      {
       "output_type": "stream",
       "stream": "stdout",
       "text": [
        "\n",
        "['4200164375', 'NNX06AE61G S01', 'DFRC', 'SUPPLEMENTAL ADMINISTRATIVE CHANGE FOR PERIOD OF PERFORMANCE', 'STACY PALEN', 'ANITA SOHUS', 'WEBER STATE UNIVERSITY', '9/8/06', '9/1/06', '8/31/07', 'AWARDED', 'YES', 'no hits']"
       ]
      },
      {
       "output_type": "stream",
       "stream": "stdout",
       "text": [
        "\n",
        "['4200169855', 'NNX06AF42G', 'GSFC', 'FAR-ULTRAVIOLET STUDY OF THE MAGELLANIC BRIDGE', 'CHRISTOPHER HOWK', 'GEORGE SONNEBORN', 'UNIVERSITY OF NOTRE DAME', '9/8/06', '9/1/06', '8/31/07', 'AWARDED', 'NO', 'no hits']"
       ]
      },
      {
       "output_type": "stream",
       "stream": "stdout",
       "text": [
        "\n",
        "['4200170701', 'NNX06AG70G', 'GSFC', 'SUPPORT OF GAMMA-RAY ASTROPHYSICS WITH SWIFT AND GLAST', 'JONATHAN ORMES', 'NEIL GEHRELS', 'UNIVERSITY OF DENVER RESEARCH INSTITUTE', '9/8/06', '10/1/06', '9/30/07', 'AWARDED', 'NO', 'no hits']"
       ]
      },
      {
       "output_type": "stream",
       "stream": "stdout",
       "text": [
        "\n",
        "['4200166102', 'NNX06AD99G S01', 'GSFC', 'SUPPLEMENTAL ADMINISTRATIVE CHANGE TO CANCEL AWARD. REISSUED AS NNX06AH19G', 'DALE WINEBRENNER', 'ROBERT FOGEL', 'UNIVERSITY OF WASHINGTON', '9/9/06', '7/15/06', '7/14/09', 'AWARDED', 'NO', 'no hits']"
       ]
      },
      {
       "output_type": "stream",
       "stream": "stdout",
       "text": [
        "\n",
        "['4200166109', 'NNX06AE14G', 'GSFC', 'STUDIES OF SMALL ATYPICAL MARTIAN IMPACT CRATERS', 'ROBERT HERRICK', 'ROBERT FOGEL', 'UNIVERSITY OF ALASKA SYSTEMS', '9/9/06', '7/13/06', '7/12/09', 'AWARDED', 'NO', 'no hits']"
       ]
      },
      {
       "output_type": "stream",
       "stream": "stdout",
       "text": [
        "\n",
        "['4200168298', 'NNX06AG51G', 'GSFC', 'TIMING X-RAY BURSTERS', 'PHILIP KAARET', 'JEAN SWANK', 'UNIVERSITY OF IOWA', '9/9/06', '8/7/06', '8/6/07', 'AWARDED', 'NO', 'no hits']"
       ]
      },
      {
       "output_type": "stream",
       "stream": "stdout",
       "text": [
        "\n",
        "['4200166526', 'NNX06AE12G', 'GSFC', 'MILLIMETER-WAVE SCATTERING PROPERTIES OF SNOW HABITS IN CLOUDS', 'JAMES WEINMAN', 'GAIL JACKSON', 'UNIVERSITY OF WASHINGTON', '9/11/06', '7/17/06', '7/16/07', 'AWARDED', 'NO', 'no hits']"
       ]
      },
      {
       "output_type": "stream",
       "stream": "stdout",
       "text": [
        "\n",
        "['4200166374', 'NNX06AE21G', 'GSFC', 'STUDIES OF QUASI-PERSISTENT ACCRETING MILLISECOND PULSARS', 'DEEPTO CHAKRABARTY', 'JEAN SWANK', 'MASSACHUSETTS INSTITUTE OF TECHNOLOGY', '9/11/06', '7/25/06', '7/24/07', 'AWARDED', 'NO', 'no hits']"
       ]
      },
      {
       "output_type": "stream",
       "stream": "stdout",
       "text": [
        "\n",
        "['4200171489', 'NNX06AE30G', 'SSC', 'THE MIDDLE PASSAGE PROJECT', 'DOUG REARDON', 'WILLIAM GRAHAM', 'COPPIN STATE UNIVERSITY', '9/11/06', '9/1/06', '8/31/07', 'AWARDED', 'YES', 'no hits']"
       ]
      },
      {
       "output_type": "stream",
       "stream": "stdout",
       "text": [
        "\n",
        "['4200171489', 'NNX06AE30G', 'SSC', 'THE MIDDLE PASSAGE PROJECT', 'DOUG REARDON', 'WILLIAM GRAHAM', 'COPPIN STATE UNIVERSITY', '9/11/06', '9/1/06', '8/31/07', 'AWARDED', 'YES', 'no hits']"
       ]
      },
      {
       "output_type": "stream",
       "stream": "stdout",
       "text": [
        "\n",
        "['4200171489', 'NNX06AE30G S01', 'SSC', 'SUPPLEMENTAL ADMINISTRATIVE CHANGE TO CANCEL IN ITS ENTIRETY', 'DOUG REARDON', 'WILLIAM GRAHAM', 'COPPIN STATE UNIVERSITY', '9/11/06', '9/1/06', '8/31/07', 'AWARDED', 'YES', 'no hits']"
       ]
      },
      {
       "output_type": "stream",
       "stream": "stdout",
       "text": [
        "\n",
        "['4200171489', 'NNX06AE30G S01', 'SSC', 'SUPPLEMENTAL ADMINISTRATIVE CHANGE TO CANCEL IN ITS ENTIRETY', 'DOUG REARDON', 'WILLIAM GRAHAM', 'COPPIN STATE UNIVERSITY', '9/11/06', '9/1/06', '8/31/07', 'AWARDED', 'YES', 'no hits']"
       ]
      },
      {
       "output_type": "stream",
       "stream": "stdout",
       "text": [
        "\n",
        "['4200167767', 'NNX06AE66G', 'GSFC', 'THEORETICAL STUDIES OF THE FIRST STARS AND THEIR FEEDBACK', 'MICHAEL SHULL', 'RON HELLINGS', 'UNIVERSITY OF COLORADO', '9/11/06', '7/24/06', '7/23/07', 'AWARDED', 'NO', 'no hits']"
       ]
      },
      {
       "output_type": "stream",
       "stream": "stdout",
       "text": [
        "\n",
        "['4200167199', 'NNX06AE72G', 'GSFC', 'STATISTICAL ANALYSIS OF SOUTHERN HEMISPHERE SNOW CENTER', 'DR. LONG CHIU', 'JAMES FOSTER', 'GEORGE MASON UNIVERSITY', '9/11/06', '7/25/06', '7/24/07', 'AWARDED', 'NO', 'no hits']"
       ]
      },
      {
       "output_type": "stream",
       "stream": "stdout",
       "text": [
        "\n",
        "['4200168628', 'NNX06AE92G', 'GSFC', 'X-RAY CHARACTERIZATION OF THE FIRST FLAT SPECTRUM SAMPLE', 'DR. GIOVANNI FOSSATI', 'STEVE SNOWDEN', 'WILLIAM MARSH RICE UNIVERSITY', '9/11/06', '8/1/06', '7/31/07', 'AWARDED', 'NO', [u'2012arXiv1205.0794M', u'2011arXiv1111.6490M']]"
       ]
      },
      {
       "output_type": "stream",
       "stream": "stdout",
       "text": [
        "\n",
        "['4200168392', 'NNX06AE99G', 'GSFC', 'BROAD BAND MULTIFREQUENCY VARIABILITY', 'MARGO F ALLER', 'STEVE SNOWDEN', 'UNIVERSITY OF MICHIGAN', '9/11/06', '8/1/06', '7/31/07', 'AWARDED', 'NO', 'no hits']"
       ]
      },
      {
       "output_type": "stream",
       "stream": "stdout",
       "text": [
        "\n",
        "['4200170210', 'NNX06AF73G', 'GSFC', 'SENSOR-ANALYSIS-MODEL INTEROPERABILITY TECHNOLOGY SUITE', 'STEFAN FALKE', 'VICKI OXENHAM', 'TASC, INC', '9/11/06', '9/6/06', '9/5/09', 'AWARDED', 'NO', 'no hits']"
       ]
      },
      {
       "output_type": "stream",
       "stream": "stdout",
       "text": [
        "\n",
        "['4200170860', 'NNX06AG38G', 'GSFC', 'X-RAY WEAK BROAD-LINE QUASARS ABSORPTION', 'GUIDO RISALITI', 'STEVEN SNOWDEN', 'SMITHSONIAN ASTROPHYSICAL', '9/11/06', '8/15/06', '8/14/07', 'AWARDED', 'NO', 'no hits']"
       ]
      },
      {
       "output_type": "stream",
       "stream": "stdout",
       "text": [
        "\n",
        "['4200170859', 'NNX06AG42G', 'GSFC', 'RS OPH, A VIOLENT NOVA', 'MARINA ORIO', 'STEVE SNOWDEN', 'UNIVERSITY OF WISCONSIN-MADISON', '9/11/06', '8/15/06', '8/14/07', 'AWARDED', 'NO', 'no hits']"
       ]
      },
      {
       "output_type": "stream",
       "stream": "stdout",
       "text": [
        "\n",
        "['4200170852', 'NNX06AG49G', 'GSFC', 'INCREASING THE TECHNOLOGY READINESS OF SENSOR ML FOR SENSOR WEBS', 'MIKE BOTTS', 'VICKI OXENHAM', 'UNIV. OF ALABAMA, HUNTSVILLE', '9/11/06', '9/15/06', '9/14/09', 'AWARDED', 'NO', 'no hits']"
       ]
      },
      {
       "output_type": "stream",
       "stream": "stdout",
       "text": [
        "\n",
        "['4200170328', 'NNX06AG56G', 'GSFC', 'WORKSHOP ON SPACECRAFT RECONNAISSANCE OF ASTEROIDS AND COMETS', 'ERIK ASPHAUG', 'LINDLEY JOHNSON', 'UNIVERSITY OF CALIFORNIA, SANTA CRUZ', '9/11/06', '9/1/06', '12/31/06', 'AWARDED', 'NO', 'no hits']"
       ]
      },
      {
       "output_type": "stream",
       "stream": "stdout",
       "text": [
        "\n",
        "['4200171303', 'NNX06AG57G', 'GSFC', 'A SYSTEMATIC STUDY OF FOSSIL GROUPS', 'PAUL RICKER', 'STEVE SNOWDEN', 'UNIVERSITY OF ILLINOIS', '9/11/06', '8/15/06', '8/14/07', 'AWARDED', 'NO', [u'2012MNRAS.427.1614Y']]"
       ]
      },
      {
       "output_type": "stream",
       "stream": "stdout",
       "text": [
        "\n",
        "['4200171089', 'NNX06AG59G', 'GSFC', 'MODELING SUPPORT FOR THE NASA MMS/SMART MISSION', 'JAMES DRAKE', 'MICHAEL HESSE', 'UNIVERSITY OF MARYLAND--COLLEGE PARK', '9/11/06', '9/1/06', '8/31/07', 'AWARDED', 'NO', 'no hits']"
       ]
      },
      {
       "output_type": "stream",
       "stream": "stdout",
       "text": [
        "\n",
        "['4200165300', 'NNX06AG78G', 'GSFC', 'CHALLENGER LEARNING CENTER OF SOUTHEASTERN CONNECTICUT', 'KIRSTEN HOYT', 'DILLARD MENCHAN', 'THE CHALLENGER LEARNING CENTER OF SE CONNECTICUT', '9/11/06', '10/1/06', '9/30/07', 'AWARDED', 'YES', 'no hits']"
       ]
      },
      {
       "output_type": "stream",
       "stream": "stdout",
       "text": [
        "\n",
        "['4200171489', 'NNX06AH18G', 'SSC', 'THE MIDDLE PASSAGE PROJECT', 'DOUG REARDON', 'PATRICIA JANCOVIC', 'COPPIN STATE UNIVERSITY', '9/11/06', '9/1/06', '8/31/07', 'AWARDED', 'YES', 'no hits']"
       ]
      },
      {
       "output_type": "stream",
       "stream": "stdout",
       "text": [
        "\n",
        "['4200171489', 'NNX06AH18G', 'SSC', 'THE MIDDLE PASSAGE PROJECT', 'DOUG REARDON', 'PATRICIA JANCOVIC', 'COPPIN STATE UNIVERSITY', '9/11/06', '9/1/06', '8/31/07', 'AWARDED', 'YES', 'no hits']"
       ]
      },
      {
       "output_type": "stream",
       "stream": "stdout",
       "text": [
        "\n",
        "['4200166102', 'NNX06AH19G', 'GSFC', 'INTERPRETATION OF MARTIAN POLAR STRATIGRAPHY USING ICE FLOW INVERSE MODELING', 'DALE WINEBRENNER', 'ROBERT FOGEL', 'UNIVERSITY OF WASHINGTON', '9/11/06', '7/15/06', '7/14/09', 'AWARDED', 'NO', 'no hits']"
       ]
      },
      {
       "output_type": "stream",
       "stream": "stdout",
       "text": [
        "\n",
        "['4200164255', 'NNX06AD27G', 'GSFC', 'FUV OBSERVATION OF THE OLD HIGH VELOCITY DM1 STAR SZ UMANRA', 'MANFRED CUNTZ', 'GEORGE SONNEBORN', 'UNIVERSITY OF TEXAS AUSTIN', '9/12/06', '6/29/06', '6/28/07', 'AWARDED', 'NO', 'no hits']"
       ]
      },
      {
       "output_type": "stream",
       "stream": "stdout",
       "text": [
        "\n",
        "['4200168067', 'NNX06AF01G', 'GSFC', 'XMM OBSERVATIONS OF INTERMEDIATE-LUMINOSITY BIRGS', 'MIKE ERACLEOUS', 'STEVE SNOWDEN', 'PENNSYLVANIA STATE UNIVERSITY', '9/12/06', '8/1/06', '7/31/07', 'AWARDED', 'NO', 'no hits']"
       ]
      },
      {
       "output_type": "stream",
       "stream": "stdout",
       "text": [
        "\n",
        "['4200169810', 'NNX06AF34G', 'GSFC', 'IS THERE A BLACK HOLE IN WR 148?', 'SERGEY V. MARCHENKO', 'STEVE SNOWDEN', 'WESTERN KENTUCKY UNIVERSITY', '9/12/06', '8/2/06', '8/1/07', 'AWARDED', 'NO', 'no hits']"
       ]
      },
      {
       "output_type": "stream",
       "stream": "stdout",
       "text": [
        "\n",
        "['4200170855', 'NNX06AG43G', 'GSFC', 'THE 2006 OUTBURST OF THE RECURRENT NOVAE RS OPH', 'GUY STRINGFELLOW', 'STEVE SNOWDEN', 'UNIVERSITY OF COLORADO', '9/12/06', '8/15/06', '8/14/07', 'AWARDED', 'NO', 'no hits']"
       ]
      },
      {
       "output_type": "stream",
       "stream": "stdout",
       "text": [
        "\n",
        "['4200170856', 'NNX06AG44G', 'GSFC', 'DEFINING PRE-OUTBURST AND POST-OUTBURST CHARACTERISTICS OF ERUPTIVE YOUNG STARS', 'GUY STRINGFELLOW', 'STEVE SNOWDEN', 'UNIVERSITY OF COLORADO', '9/12/06', '8/15/06', '8/14/07', 'AWARDED', 'NO', [u'2010A&A...511A..63A']]"
       ]
      },
      {
       "output_type": "stream",
       "stream": "stdout",
       "text": [
        "\n",
        "['4200165296', 'NNX06AG76G', 'GSFC', 'THE CHEMSOLVE INITIATIVE', 'ROBERTA SMOUSE HARTMAN', 'PAUL LOWMAN', 'LA ROCHE COLLEGE', '9/12/06', '8/15/06', '8/14/07', 'AWARDED', 'YES', 'no hits']"
       ]
      },
      {
       "output_type": "stream",
       "stream": "stdout",
       "text": [
        "\n",
        "['4200165250', 'NNX06AG79G', 'GSFC', 'PPSD NASA EXPLORER PROGRAM', 'MICHAEL LAURO', 'PAUL LOWMAN', 'PROVIDENCE SCHOOL DEPARTMENT', '9/12/06', '9/1/06', '8/31/07', 'AWARDED', 'YES', 'no hits']"
       ]
      },
      {
       "output_type": "stream",
       "stream": "stdout",
       "text": [
        "\n",
        "['4200174326', 'NNX06AH20H', 'HQ', 'GENETIC ANALYSIS OF RADIATION EFFECT ON DNA REPAIR MECHANISMS IN P. AERUGINOSA', 'HONGWEI YU', 'KATIE BLANDING', 'MARSHALL UNIVERSITY RESEARCH CORPORATION', '9/12/06', '9/1/06', '8/31/09', 'AWARDED', 'NO', 'no hits']"
       ]
      },
      {
       "output_type": "stream",
       "stream": "stdout",
       "text": [
        "\n",
        "['4200174328', 'NNX06AH21H', 'HQ', 'PHYSIOLOGICAL BENEFITS OF EXERCISE IN ARTIFICIAL GRAVITY', 'LAURENCE R. YOUNG', 'KATIE BLANDING', 'MASSACHUSETTS INSTITUTE OF TECHNOLOGY', '9/12/06', '9/1/06', '8/31/09', 'AWARDED', 'NO', 'no hits']"
       ]
      },
      {
       "output_type": "stream",
       "stream": "stdout",
       "text": [
        "\n",
        "['4200174261', 'NNX06AH22H', 'HQ', 'ATOMIC LAYER DEPOSITION OF TIO2, 2NO, HFO2, TIN FILMS ON PARTICLES FOR IMPROVED WEAR AND OXIDATION', 'ALAN WEIMER', 'KATIE BLANDING', 'UNIVERSITY OF COLORADO', '9/12/06', '9/1/06', '8/31/09', 'AWARDED', 'NO', 'no hits']"
       ]
      },
      {
       "output_type": "stream",
       "stream": "stdout",
       "text": [
        "\n",
        "['4200174383', 'NNX06AH24H', 'HQ', 'INTERPLANETARY SUPPLY CHAIN MANAGEMENT AND LOGISTICS', 'OLIVIER DEWECK', 'KATIE BLANDING', 'MASSACHUSSETTS INSTITUTE OF TECHNOLOGY', '9/12/06', '9/1/06', '8/31/09', 'AWARDED', 'NO', 'no hits']"
       ]
      },
      {
       "output_type": "stream",
       "stream": "stdout",
       "text": [
        "\n",
        "['4200174754', 'NNX06AH31H', 'HQ', 'ANALYSIS AND DEVELOPMENT OF MISSION ARCHITECTURE AND DESIGN', 'SVEN BILEN', 'KATIE BLANDING', 'PENNSYLVANIA STATE UNIVERSITY', '9/12/06', '9/7/06', '9/6/09', 'AWARDED', 'NO', 'no hits']"
       ]
      },
      {
       "output_type": "stream",
       "stream": "stdout",
       "text": [
        "\n",
        "['4200165444', 'NNX06AD72G S01', 'HQ', 'SUPPLEMENTAL ADMINISTRATIVE CHANGE TO PERIOD OF PERFORMANCE', 'LYNN MARGULIS', 'MICHAEL NEW', 'MARINE BIOLOGICAL LABORATORY', '9/13/06', '9/15/06', '9/14/09', 'AWARDED', 'NO', 'no hits']"
       ]
      },
      {
       "output_type": "stream",
       "stream": "stdout",
       "text": [
        "\n",
        "['4200163542', 'NNX06AD85H', 'GSFC', 'TESTING THE COSMOLOGICAL APPLICATIONS OF LONG DURATION GAMMA-RAY BURSTS WITH THE NASA/GSFC SWIFT', 'ROBERT KIRSHNER', 'CORNELIS GEHRELS', 'HARVARD UNIVERSITY', '9/13/06', '7/18/06', '7/17/09', 'AWARDED', 'NO', 'no hits']"
       ]
      },
      {
       "output_type": "stream",
       "stream": "stdout",
       "text": [
        "\n",
        "['4200165988', 'NNX06AE15G', 'GSFC', 'METHOD FOR IDENTIFYING MINERALOGICAL SIGNATURES IN LOCALES WITH LARGE TOPOGRAPHY USING ATMOSPHERICAL', 'SCOTT ANDERSON', 'ROBERT FOGEL', 'UNIVERSITY OF HAWAII', '9/13/06', '8/1/06', '7/31/08', 'AWARDED', 'NO', [u'2010JGRE..11510012O']]"
       ]
      },
      {
       "output_type": "stream",
       "stream": "stdout",
       "text": [
        "\n",
        "['4200167694', 'NNX06AE83G', 'HQ', 'INTEGRATED ANALYSIS OF REGIONAL AND CONTINENTAL CARBON BUDGETS FOR CO2 AND CO IN NORTH AMERICA, USI', 'STEVEN WOFSY', 'WILLIAM EMANUEL', 'HARVARD UNIVERSITY', '9/13/06', '9/1/06', '8/31/09', 'AWARDED', 'NO', [u'2008ACP.....8.7673M', u'2008ACPD....811395M']]"
       ]
      },
      {
       "output_type": "stream",
       "stream": "stdout",
       "text": [
        "\n",
        "['4200165248', 'NNX06AG67G', 'GSFC', 'TECHNOLOGY INTEGRATION INTO SCIENCE AND MATH', 'JACQUELINE FORBES', 'MARILYN J. MACK', 'EAST PROVIDENCE SCHOOL', '9/13/06', '9/15/06', '9/14/07', 'AWARDED', 'YES', 'no hits']"
       ]
      },
      {
       "output_type": "stream",
       "stream": "stdout",
       "text": [
        "\n",
        "['4200168226', 'NNX06AG77G', 'GSFC', 'MONITORING ULTRALUMINOUS X-RAY SOURCES', 'PHILIP KAARET', 'PATRICIA BOYD', 'UNIVERSITY OF IOWA', '9/13/06', '7/27/06', '7/26/07', 'AWARDED', 'NO', 'no hits']"
       ]
      },
      {
       "output_type": "stream",
       "stream": "stdout",
       "text": [
        "\n",
        "['4200165344', 'NNX06AC60G S01', 'GSFC', 'SUPPLEMENT TO ADD INCREMENTAL FUNDING', 'PATRICIA REIFF', 'MELVYN GOLDSTEIN', 'WILLIAM MARSH RICE UNIVERSITY', '9/14/06', '6/9/06', '6/8/09', 'AWARDED', 'NO', 'no hits']"
       ]
      },
      {
       "output_type": "stream",
       "stream": "stdout",
       "text": [
        "\n"
       ]
      }
     ],
     "prompt_number": 94
    }
   ],
   "metadata": {}
  }
 ]
}
