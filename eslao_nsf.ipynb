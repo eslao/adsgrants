{
 "metadata": {
  "name": "NSF"
 },
 "nbformat": 3,
 "nbformat_minor": 0,
 "worksheets": [
  {
   "cells": [
    {
     "cell_type": "markdown",
     "metadata": {},
     "source": "This was my start at an attempt to scrape data from every individual nsf grant page."
    },
    {
     "cell_type": "code",
     "collapsed": false,
     "input": "from urllib2 import *",
     "language": "python",
     "metadata": {},
     "outputs": [],
     "prompt_number": 1
    },
    {
     "cell_type": "code",
     "collapsed": false,
     "input": "award=1538",
     "language": "python",
     "metadata": {},
     "outputs": [],
     "prompt_number": 2
    },
    {
     "cell_type": "code",
     "collapsed": false,
     "input": "type(award)",
     "language": "python",
     "metadata": {},
     "outputs": [
      {
       "output_type": "pyout",
       "prompt_number": 3,
       "text": "int"
      }
     ],
     "prompt_number": 3
    },
    {
     "cell_type": "code",
     "collapsed": false,
     "input": "award_str = str(award).zfill(7)",
     "language": "python",
     "metadata": {},
     "outputs": [],
     "prompt_number": 15
    },
    {
     "cell_type": "code",
     "collapsed": false,
     "input": "award_str",
     "language": "python",
     "metadata": {},
     "outputs": [
      {
       "output_type": "pyout",
       "prompt_number": 16,
       "text": "'0001538'"
      }
     ],
     "prompt_number": 16
    },
    {
     "cell_type": "code",
     "collapsed": false,
     "input": "url = 'http://www.nsf.gov/awardsearch/showAward?AWD_ID=' + award_key",
     "language": "python",
     "metadata": {},
     "outputs": [],
     "prompt_number": 6
    },
    {
     "cell_type": "code",
     "collapsed": false,
     "input": "award_str",
     "language": "python",
     "metadata": {},
     "outputs": [
      {
       "output_type": "pyout",
       "prompt_number": 7,
       "text": "'1538'"
      }
     ],
     "prompt_number": 7
    },
    {
     "cell_type": "code",
     "collapsed": false,
     "input": "url",
     "language": "python",
     "metadata": {},
     "outputs": [
      {
       "output_type": "pyout",
       "prompt_number": 8,
       "text": "'http://www.nsf.gov/awardsearch/showAward?AWD_ID=0001538'"
      }
     ],
     "prompt_number": 8
    },
    {
     "cell_type": "code",
     "collapsed": false,
     "input": "type(awards)",
     "language": "python",
     "metadata": {},
     "outputs": [
      {
       "output_type": "pyout",
       "prompt_number": 10,
       "text": "list"
      }
     ],
     "prompt_number": 10
    },
    {
     "cell_type": "code",
     "collapsed": false,
     "input": "range(10)",
     "language": "python",
     "metadata": {},
     "outputs": [
      {
       "output_type": "pyout",
       "prompt_number": 11,
       "text": "[0, 1, 2, 3, 4, 5, 6, 7, 8, 9]"
      }
     ],
     "prompt_number": 11
    },
    {
     "cell_type": "code",
     "collapsed": false,
     "input": "awards = range(10)",
     "language": "python",
     "metadata": {},
     "outputs": [],
     "prompt_number": 12
    },
    {
     "cell_type": "code",
     "collapsed": false,
     "input": "awards",
     "language": "python",
     "metadata": {},
     "outputs": [
      {
       "output_type": "pyout",
       "prompt_number": 13,
       "text": "[0, 1, 2, 3, 4, 5, 6, 7, 8, 9]"
      }
     ],
     "prompt_number": 13
    },
    {
     "cell_type": "code",
     "collapsed": false,
     "input": "awards = [str(a).zfill(7) for a in range(10)]",
     "language": "python",
     "metadata": {},
     "outputs": [],
     "prompt_number": 17
    },
    {
     "cell_type": "code",
     "collapsed": false,
     "input": "awards",
     "language": "python",
     "metadata": {},
     "outputs": [
      {
       "output_type": "pyout",
       "prompt_number": 18,
       "text": "['0000000',\n '0000001',\n '0000002',\n '0000003',\n '0000004',\n '0000005',\n '0000006',\n '0000007',\n '0000008',\n '0000009']"
      }
     ],
     "prompt_number": 18
    },
    {
     "cell_type": "code",
     "collapsed": false,
     "input": "urls = [('http://www.nsf.gov/awardsearch/showAward?AWD_ID=' + a) for a in awards]",
     "language": "python",
     "metadata": {},
     "outputs": [],
     "prompt_number": 21
    },
    {
     "cell_type": "code",
     "collapsed": false,
     "input": "urls",
     "language": "python",
     "metadata": {},
     "outputs": [
      {
       "output_type": "pyout",
       "prompt_number": 22,
       "text": "['http://www.nsf.gov/awardsearch/showAward?AWD_ID=0000000',\n 'http://www.nsf.gov/awardsearch/showAward?AWD_ID=0000001',\n 'http://www.nsf.gov/awardsearch/showAward?AWD_ID=0000002',\n 'http://www.nsf.gov/awardsearch/showAward?AWD_ID=0000003',\n 'http://www.nsf.gov/awardsearch/showAward?AWD_ID=0000004',\n 'http://www.nsf.gov/awardsearch/showAward?AWD_ID=0000005',\n 'http://www.nsf.gov/awardsearch/showAward?AWD_ID=0000006',\n 'http://www.nsf.gov/awardsearch/showAward?AWD_ID=0000007',\n 'http://www.nsf.gov/awardsearch/showAward?AWD_ID=0000008',\n 'http://www.nsf.gov/awardsearch/showAward?AWD_ID=0000009']"
      }
     ],
     "prompt_number": 22
    },
    {
     "cell_type": "code",
     "collapsed": false,
     "input": "urls[1]",
     "language": "python",
     "metadata": {},
     "outputs": [
      {
       "output_type": "pyout",
       "prompt_number": 23,
       "text": "'http://www.nsf.gov/awardsearch/showAward?AWD_ID=0000001'"
      }
     ],
     "prompt_number": 23
    },
    {
     "cell_type": "code",
     "collapsed": false,
     "input": "record = urlopen(urls[5]).read()",
     "language": "python",
     "metadata": {},
     "outputs": [],
     "prompt_number": 27
    },
    {
     "cell_type": "code",
     "collapsed": false,
     "input": "record[:5]",
     "language": "python",
     "metadata": {},
     "outputs": [
      {
       "output_type": "pyout",
       "prompt_number": 28,
       "text": "'\\r\\n\\r\\n\\r'"
      }
     ],
     "prompt_number": 28
    },
    {
     "cell_type": "code",
     "collapsed": false,
     "input": "record[-9999:]",
     "language": "python",
     "metadata": {},
     "outputs": [
      {
       "output_type": "pyout",
       "prompt_number": 34,
       "text": "'src=\"images/common/greendivide.gif\" width=\"14\" height=\"1\" alt=\"\" border=\"0\"/></td>\\r\\n              </tr>\\r\\n              <tr>\\r\\n                <td class=\"lefttext\">\\r\\n                  \\r\\n                \\t\\t <a href=\"http://www.nsf.gov/awards/managing/fed_dem_part.jsp?org=NSF\"><strong>Federal Demonstration Partnership</strong></a>\\r\\n                \\t \\r\\n                \\r\\n               </td> \\r\\n              </tr>\\r\\n              <tr>\\r\\n                <td class=\"lefttextdiv\"><img src=\"images/common/greendivide.gif\" width=\"14\" height=\"1\" alt=\"\" border=\"0\"/></td>\\r\\n              </tr>\\r\\n              <tr> \\r\\n                <td class=\"lefttext\"><a href=\"http://www.nsf.gov/bfa/dias/policy/\"><strong>Policy Office Website</strong></a></td> \\r\\n              </tr>\\r\\n\\t\\t\\t  <tr> \\r\\n                <td class=\"lefttextdiv\"><img src=\"images/common/x.gif\" width=\"8\" height=\"12\" alt=\"\" border=\"0\"/></td>\\r\\n              </tr>\\r\\n\\r\\n            </table> \\r\\n            <!-- END - table for left hand title and image -->\\r\\n          </td>\\r\\n\\r\\n          <td width=\"1\" bgcolor=\"#b5b5b5\"><img src=\"images/common/x.gif\" width=\"1\" height=\"1\" alt=\"\" border=\"0\"/></td> \\r\\n          <td width=\"18\" bgcolor=\"#ffffff\"><img src=\"images/common/x.gif\" width=\"1\" height=\"1\" alt=\"\" border=\"0\"/></td> \\r\\n          <td bgcolor=\"#ffffff\" class=\"text\" valign=\"top\" width=\"516\">\\r\\n          <!-- CONTENT START --> \\r\\n\\t\\t\\t\\tNo such award found.\\r\\n            <!--  end content --> </td> \\r\\n          <td width=\"13\" bgcolor=\"#ffffff\"><img src=\"images/common/x.gif\" width=\"12\" height=\"1\" alt=\"\" border=\"0\"/></td> \\r\\n          <td width=\"1\" bgcolor=\"#b5b5b5\"><img src=\"images/common/x.gif\" width=\"1\" height=\"1\" alt=\"\" border=\"0\"/></td> \\r\\n        </tr>\\r\\n     \\r\\n                <tr>\\r\\n          <td width=\"1\" bgcolor=\"#b5b5b5\"><img src=\"images/common/x.gif\" width=\"1\" height=\"1\" alt=\"\" border=\"0\"/></td> \\r\\n          <td bgcolor=\"#eef2f7\"><img src=\"images/common/x.gif\" width=\"1\" height=\"1\" alt=\"\" border=\"0\"/></td>\\r\\n          <td bgcolor=\"#b5b5b5\"><img src=\"images/common/x.gif\" width=\"1\" height=\"1\" alt=\"\" border=\"0\"/></td>\\r\\n          <td bgcolor=\"#ffffff\"><img src=\"images/common/x.gif\" width=\"1\" height=\"1\" alt=\"\" border=\"0\"/></td>\\r\\n          <td  ID=\"printFriendly2\" colspan=\"2\" bgcolor=\"#ffffff\"><a href=\"javascript:printerFriendlyView();\"><img src=\"images/common/printpage.gif\" width=\"134\" height=\"23\" alt=\"Print this page\" border=\"0\"/></a></td>\\r\\n          <td width=\"1\" bgcolor=\"#b5b5b5\"><img src=\"images/common/x.gif\" width=\"1\" height=\"1\" alt=\"\" border=\"0\"/></td> \\r\\n        </tr>\\r\\n        <tr> \\r\\n          <td width=\"1\" bgcolor=\"#b5b5b5\"><img src=\"images/common/x.gif\" width=\"1\" height=\"1\" alt=\"\" border=\"0\"/></td> \\r\\n          <td bgcolor=\"#eef2f7\"><img src=\"images/common/x.gif\" width=\"1\" height=\"1\" alt=\"\" border=\"0\"/></td> \\r\\n          <td bgcolor=\"#b5b5b5\"><img src=\"images/common/x.gif\" width=\"1\" height=\"1\" alt=\"\" border=\"0\"/></td> \\r\\n          <td bgcolor=\"#ffffff\"><img src=\"images/common/x.gif\" width=\"18\" height=\"1\" alt=\"\" border=\"0\"/></td> \\r\\n          <td  ID=\"printFriendly3\" colspan=\"2\" bgcolor=\"#ffffff\"><a href=\"#top\"><img src=\"images/common/top.gif\" width=\"51\" height=\"25\" border=\"0\" alt=\"Back to Top of page\" align=\"right\" /></a></td> \\r\\n          <td width=\"1\" bgcolor=\"#b5b5b5\"><img src=\"images/common/x.gif\" width=\"1\" height=\"1\" alt=\"\" border=\"0\"/></td> \\r\\n        </tr>\\r\\n \\r\\n    \\r\\n      </table></td> \\r\\n    <td bgcolor=\"#e6e6e6\"><img src=\"images/common/x.gif\" width=\"5\" height=\"1\" alt=\"\" border=\"0\"/></td> \\r\\n  </tr> \\r\\n  <tr> \\r\\n    <td bgcolor=\"#e6e6e6\"><img src=\"images/common/x.gif\" width=\"5\" height=\"1\" alt=\"\" border=\"0\"/></td> \\r\\n    <td id=\"printFriendly4\" bgcolor=\"#e6e6e6\"><style type=\"text/css\">\\r\\n<!--\\r\\n.style3 {\\r\\n    font-family: Verdana\\r\\n}\\r\\n\\r\\n.style8 {\\r\\n    font-size: x-small\\r\\n}\\r\\n\\r\\n.style11 {\\r\\n    color: #FFFFFF;\\r\\n    font-family: Verdana;\\r\\n    font-size: x-small;\\r\\n}\\r\\n-->\\r\\n</style>\\r\\n\\r\\n\\r\\n\\r\\n    <table style=\"width:749px; border:none; background-color:#404d6b;\" cellspacing=\"0\" cellpadding=\"0\">\\r\\n      <tr>      \\r\\n        <td class=\"footernavdiv1\">&nbsp;</td>\\r\\n        <td class=\"footernav1\"><a href=\"/funding/\">FUNDING</a></td>\\r\\n        <td class=\"footernavdiv1\" width=\"1\">&nbsp;</td>\\r\\n        <td class=\"footernav1\"><a href=\"/awardsearch/\">AWARDS</a></td>\\r\\n        <td class=\"footernavdiv1\" width=\"1\">&nbsp;</td>\\r\\n\\r\\n        <td class=\"footernav1\"><a href=\"/discoveries/\">DISCOVERIES</a></td>\\r\\n        <td class=\"footernavdiv1\" width=\"1\">&nbsp;</td>\\r\\n        <td class=\"footernav1\"><a href=\"/news/\">NEWS</a></td>\\r\\n        <td class=\"footernavdiv1\" width=\"1\">&nbsp;</td>\\r\\n        <td class=\"footernav1\"><a href=\"/publications/\">PUBLICATIONS</a></td>\\r\\n        <td class=\"footernavdiv1\" width=\"1\">&nbsp;</td>\\r\\n\\r\\n        <td class=\"footernav1\"><a href=\"/statistics/\">STATISTICS</a></td>\\r\\n        <td class=\"footernavdiv1\" width=\"1\">&nbsp;</td>\\r\\n        <td class=\"footernav1\"><a href=\"/about/\">ABOUT NSF</a></td>\\r\\n        <td class=\"footernavdiv1\" width=\"1\">&nbsp;</td>\\r\\n        <td class=\"footernav1\"><a href=\"https://www.fastlane.nsf.gov\">FASTLANE</a></td>\\r\\n        <td class=\"footernavdiv1\">&nbsp;</td>\\r\\n      </tr>\\r\\n    </table>\\r\\n    \\r\\n<table id=\"printFriendly5\" style=\"margin-top:20px; margin-bottom:5px; width:100%; font-size:small; border:none;\" cellspacing=\"0\" cellpadding=\"0\">\\r\\n  <tr>\\r\\n    <td style=\"text-align: center; white-space:nowrap;\">\\r\\n      <a style=\"text-decoration:none;\" href=\"http://www.research.gov/\">Research.gov</a><span style=\"color:#cccccc\"> &nbsp;|&nbsp;</span>\\r\\n      <a style=\"text-decoration:none;\" href=\"http://www.usa.gov\">USA.gov</a><span style=\"color:#cccccc\"> &nbsp;|&nbsp;</span>\\r\\n      <a style=\"text-decoration:none;\" href=\"/nsb/\">National Science Board</a><span style=\"color:#cccccc\"> &nbsp;|&nbsp;</span>\\r\\n      <a style=\"text-decoration:none;\" href=\"http://www.nsf.gov/recovery/\">Recovery Act</a><span style=\"color:#cccccc\"> &nbsp;|&nbsp;</span>\\r\\n      <a style=\"text-decoration:none;\" href=\"/about/performance/\">Budget and Performance</a><span style=\"color:#cccccc\"> &nbsp;|&nbsp;</span>\\r\\n      <a style=\"text-decoration:none;\" href=\"/publications/pub_summ.jsp?ods_key=afr\">Annual Financial Report</a>\\r\\n    </td>\\r\\n  </tr>\\r\\n</table>\\r\\n<table id=\"printFriendly51\" style=\"margin-top:0px; margin-bottom:10px; width:100%; font-size:small; border:none;\" cellspacing=\"0\" cellpadding=\"0\">\\r\\n  <tr>\\r\\n    <td style=\"text-align: center; white-space:nowrap;\">\\r\\n      <a style=\"text-decoration:none;\" href=\"/policies/\">Web Policies and Important Links</a><span style=\"color:#cccccc\"> &nbsp;|&nbsp;</span>\\r\\n      <a style=\"text-decoration:none;\" href=\"/policies/privacy.jsp\">Privacy</a><span style=\"color:#cccccc\"> &nbsp;|&nbsp;</span>\\r\\n      <a style=\"text-decoration:none;\" href=\"/policies/foia.jsp\">FOIA</a><span style=\"color:#cccccc\"> &nbsp;|&nbsp;</span>\\r\\n      <a style=\"text-decoration:none;\" href=\"/od/odi/notice.jsp\">NO FEAR Act</a><span style=\"color:#cccccc\"> &nbsp;|&nbsp;</span>\\r\\n      <a style=\"text-decoration:none;\" href=\"/oig/\">Inspector General</a><span style=\"color:#cccccc\"> &nbsp;|&nbsp;</span>\\r\\n      <a style=\"text-decoration:none;\" href=\"mailto:webmaster@nsf.gov\">Webmaster Contact</a><span style=\"color:#cccccc\"> &nbsp;|&nbsp;</span>\\r\\n      <a style=\"text-decoration:none;\" href=\"/help/sitemap.jsp\">Site Map</a>\\r\\n    </td>\\r\\n  </tr>\\r\\n</table>\\r\\n\\r\\n<table style=\"margin-top:15px; margin-bottom:0px; width:740px; font-size:small; border:none;\" cellspacing=\"0\" cellpadding=\"0\">\\r\\n  <tr>\\r\\n    <td style=\"text-align: center;\"><img src=\"images/common/nsf_logo_bottom.png\" alt=\"National Science Foundation Logo\" /></td>\\r\\n  </tr>\\r\\n</table>\\r\\n<table style=\"margin-top:10px; margin-bottom:0px; width:740px; font-size:small; border:none;\" cellspacing=\"0\" cellpadding=\"0\">\\r\\n  <tr>\\r\\n    <td style=\"text-align: center; color:black; font-size:x-small; font-weight:bold;\">\\r\\n    <span style=\"white-space: nowrap;\">The National Science Foundation, 4201 Wilson Boulevard,\\r\\n      Arlington, Virginia 22230, USA</br> Tel: (703) 292-5111, FIRS: (800) 877-8339 |\\r\\n      TDD: (800) 281-8749</span>\\r\\n    </td>\\r\\n  </tr>  \\r\\n</table>\\r\\n<table id=\"printFriendly6\" style=\"margin-top:10px; margin-bottom:15px; width:740px; font-size:small; border:none;\" cellspacing=\"0\" cellpadding=\"0\">\\r\\n  <tr>\\r\\n    <td style=\"text-align: center; font-size:x-small;\" colspan=\"4\">\\r\\n      <img src=\"images/common/text_only.gif\" alt=\"\" width=\"20\" height=\"20\" border=\"0\" style=\"vertical-align: middle;\"/>&nbsp;\\r\\n      <a style=\"text-decoration:none;\" href=\"https://assistive.usablenet.com/tt/referrer\">Text Only Version</a>\\r\\n    </td>\\r\\n  </tr>\\r\\n</table>\\r\\n\\r\\n<table>\\r\\n  <tr id=\"printFriendly7\">\\r\\n    <td colspan=\"4\" align=\"left\" class=\"ftr_greytext\"><br>\\r\\n  </tr>\\r\\n  <tr>\\r\\n    <td colspan=\"4\" align=\"center\"><img src=\"images/common/x.gif\" width=\"1\" height=\"10\"></td>\\r\\n  </tr>\\r\\n  <script language=\"JavaScript\">\\r\\n            document.getElementById(\\'printFriendly7\\').style.display = \\'none\\';\\r\\n            if (opener != null) {\\r\\n                if (opener.printFlag) {\\r\\n                    printThisPage();\\r\\n                }\\r\\n            }\\r\\n        </script>\\r\\n  <tr>\\r\\n    <td class=\"ftr_greytext\" colspan=\"4\"><img src=\"images/common/x.gif\" alt=\"\" width=\"1\" height=\"2\" border=\"0\" /></td>\\r\\n  </tr>\\r\\n</table>\\r\\n\\r\\n</td>\\r\\n<td bgcolor=\"#e6e6e6\"><img src=\"images/common/x.gif\" width=\"5\" height=\"1\" alt=\"\" border=\"0\" /></td>\\r\\n</tr>\\r\\n<tr>\\r\\n  <td colspan=\"3\" bgcolor=\"#e6e6e6\"><img src=\"images/common/x.gif\" width=\"5\" height=\"5\" alt=\"\" border=\"0\" /></td>\\r\\n</tr>\\r\\n</table>\\r\\n\\r\\n<div id=\"printFriendly5\" style=\"display:hide;\"></div> <table width=\"740\" border=\"0\" cellspacing=\"0\" cellpadding=\"0\"> \\r\\n        <tr> \\r\\n          <td class=\"ftr_greytext\" colspan=\"4\"><img src=\"images/common/x.gif\" alt=\"\" width=\"1\" height=\"2\" border=\"0\" /></td> \\r\\n        </tr> \\r\\n      </table></td> \\r\\n    <td bgcolor=\"#e6e6e6\"><img src=\"images/common/x.gif\" width=\"5\" height=\"1\" alt=\"\" border=\"0\"/></td> \\r\\n  </tr> \\r\\n  <tr> \\r\\n    <td colspan=\"3\" bgcolor=\"#e6e6e6\"><img src=\"images/common/x.gif\" width=\"5\" height=\"5\" alt=\"\" border=\"0\"/></td> \\r\\n  </tr> \\r\\n</table> \\r\\n</body>\\r\\n</html>\\r\\n'"
      }
     ],
     "prompt_number": 34
    },
    {
     "cell_type": "code",
     "collapsed": false,
     "input": "",
     "language": "python",
     "metadata": {},
     "outputs": []
    }
   ],
   "metadata": {}
  }
 ]
}
