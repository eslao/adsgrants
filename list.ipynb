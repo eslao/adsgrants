{
 "metadata": {
  "name": "list"
 },
 "nbformat": 3,
 "nbformat_minor": 0,
 "worksheets": [
  {
   "cells": [
    {
     "cell_type": "markdown",
     "metadata": {},
     "source": "two string-cleaning operations"
    },
    {
     "cell_type": "code",
     "collapsed": false,
     "input": "import urllib2",
     "language": "python",
     "metadata": {},
     "outputs": [],
     "prompt_number": 2
    },
    {
     "cell_type": "code",
     "collapsed": false,
     "input": "list = open('/Users/christine/Downloads/dst4l/list.txt', 'r')",
     "language": "python",
     "metadata": {},
     "outputs": [],
     "prompt_number": 4
    },
    {
     "cell_type": "code",
     "collapsed": false,
     "input": "list",
     "language": "python",
     "metadata": {},
     "outputs": [
      {
       "output_type": "pyout",
       "prompt_number": 5,
       "text": "<open file '/Users/christine/Downloads/dst4l/list.txt', mode 'r' at 0x7997c80>"
      }
     ],
     "prompt_number": 5
    },
    {
     "cell_type": "code",
     "collapsed": false,
     "input": "for line in list.readlines():\n    row.append([line])",
     "language": "python",
     "metadata": {},
     "outputs": [],
     "prompt_number": 7
    },
    {
     "cell_type": "markdown",
     "metadata": {},
     "source": "ignore stuff above; not done\n\nbelow: taking off the last three digits"
    },
    {
     "cell_type": "code",
     "collapsed": false,
     "input": "list2 = ['111xxx', '222xxx', '333xxx']",
     "language": "python",
     "metadata": {},
     "outputs": [],
     "prompt_number": 8
    },
    {
     "cell_type": "code",
     "collapsed": false,
     "input": "list2",
     "language": "python",
     "metadata": {},
     "outputs": [
      {
       "output_type": "pyout",
       "prompt_number": 9,
       "text": "['111xxx', '222xxx', '333xxx']"
      }
     ],
     "prompt_number": 9
    },
    {
     "cell_type": "code",
     "collapsed": false,
     "input": "list3 = [i[:-3] for i in list2]",
     "language": "python",
     "metadata": {},
     "outputs": [],
     "prompt_number": 16
    },
    {
     "cell_type": "code",
     "collapsed": false,
     "input": "list3",
     "language": "python",
     "metadata": {},
     "outputs": [
      {
       "output_type": "pyout",
       "prompt_number": 17,
       "text": "['111', '222', '333']"
      }
     ],
     "prompt_number": 17
    },
    {
     "cell_type": "markdown",
     "metadata": {},
     "source": "below: replace a substring"
    },
    {
     "cell_type": "code",
     "collapsed": false,
     "input": "list4 = [i.replace('xxx', '') for i in list2]",
     "language": "python",
     "metadata": {},
     "outputs": [],
     "prompt_number": 21
    },
    {
     "cell_type": "code",
     "collapsed": false,
     "input": "list4",
     "language": "python",
     "metadata": {},
     "outputs": [
      {
       "output_type": "pyout",
       "prompt_number": 22,
       "text": "['111', '222', '333']"
      }
     ],
     "prompt_number": 22
    },
    {
     "cell_type": "code",
     "collapsed": false,
     "input": "doesublist = open('adsgrants/doe/doe_grant_numbers_subset.txt', 'r')",
     "language": "python",
     "metadata": {},
     "outputs": [],
     "prompt_number": 26
    },
    {
     "cell_type": "code",
     "collapsed": false,
     "input": "my_sublist = [line for line in doesublist]",
     "language": "python",
     "metadata": {},
     "outputs": [],
     "prompt_number": 27
    },
    {
     "cell_type": "code",
     "collapsed": false,
     "input": "print my_sublist",
     "language": "python",
     "metadata": {},
     "outputs": [
      {
       "output_type": "stream",
       "stream": "stdout",
       "text": "['DE-FG02-05CH11275\\n', 'DE-FG02-06CH11429\\n', 'DE-SC0005070\\n', 'DE-SC0005059\\n', 'DE-SC0005169\\n', 'DE-SC0005303\\n', 'DE-SC0005061\\n', 'DE-SC0005129\\n', 'DE-SC0005216\\n', 'DE-SC0006792']\n"
      }
     ],
     "prompt_number": 28
    },
    {
     "cell_type": "code",
     "collapsed": false,
     "input": "my_sublist2 = [i.replace('\\n', '') for i in my_sublist]",
     "language": "python",
     "metadata": {},
     "outputs": [],
     "prompt_number": 29
    },
    {
     "cell_type": "code",
     "collapsed": false,
     "input": "my_sublist",
     "language": "python",
     "metadata": {},
     "outputs": [
      {
       "output_type": "pyout",
       "prompt_number": 30,
       "text": "['DE-FG02-05CH11275\\n',\n 'DE-FG02-06CH11429\\n',\n 'DE-SC0005070\\n',\n 'DE-SC0005059\\n',\n 'DE-SC0005169\\n',\n 'DE-SC0005303\\n',\n 'DE-SC0005061\\n',\n 'DE-SC0005129\\n',\n 'DE-SC0005216\\n',\n 'DE-SC0006792']"
      }
     ],
     "prompt_number": 30
    },
    {
     "cell_type": "code",
     "collapsed": false,
     "input": "print my_sublist2",
     "language": "python",
     "metadata": {},
     "outputs": [
      {
       "output_type": "stream",
       "stream": "stdout",
       "text": "['DE-FG02-05CH11275', 'DE-FG02-06CH11429', 'DE-SC0005070', 'DE-SC0005059', 'DE-SC0005169', 'DE-SC0005303', 'DE-SC0005061', 'DE-SC0005129', 'DE-SC0005216', 'DE-SC0006792']\n"
      }
     ],
     "prompt_number": 31
    },
    {
     "cell_type": "code",
     "collapsed": false,
     "input": "for item in my_sublist2:\n\toutput =  \"%s\" % item\n\tprint output # this outputs the whole list",
     "language": "python",
     "metadata": {},
     "outputs": [
      {
       "output_type": "stream",
       "stream": "stdout",
       "text": "DE-FG02-05CH11275\nDE-FG02-06CH11429\nDE-SC0005070\nDE-SC0005059\nDE-SC0005169\nDE-SC0005303\nDE-SC0005061\nDE-SC0005129\nDE-SC0005216\nDE-SC0006792\n"
      }
     ],
     "prompt_number": 32
    },
    {
     "cell_type": "code",
     "collapsed": false,
     "input": "urllist = [(\"http://adslabs.org/adsabs/api/search/?q=\\\"\" + i.replace('\\n', '') + \"\\\"&dev_key=8IIQgx5DrWZBwr2o\") for i in my_sublist]",
     "language": "python",
     "metadata": {},
     "outputs": [],
     "prompt_number": 37
    },
    {
     "cell_type": "code",
     "collapsed": false,
     "input": "urllist",
     "language": "python",
     "metadata": {},
     "outputs": [
      {
       "output_type": "pyout",
       "prompt_number": 38,
       "text": "['http://adslabs.org/adsabs/api/search/?q=\"DE-FG02-05CH11275\"&dev_key=8IIQgx5DrWZBwr2o',\n 'http://adslabs.org/adsabs/api/search/?q=\"DE-FG02-06CH11429\"&dev_key=8IIQgx5DrWZBwr2o',\n 'http://adslabs.org/adsabs/api/search/?q=\"DE-SC0005070\"&dev_key=8IIQgx5DrWZBwr2o',\n 'http://adslabs.org/adsabs/api/search/?q=\"DE-SC0005059\"&dev_key=8IIQgx5DrWZBwr2o',\n 'http://adslabs.org/adsabs/api/search/?q=\"DE-SC0005169\"&dev_key=8IIQgx5DrWZBwr2o',\n 'http://adslabs.org/adsabs/api/search/?q=\"DE-SC0005303\"&dev_key=8IIQgx5DrWZBwr2o',\n 'http://adslabs.org/adsabs/api/search/?q=\"DE-SC0005061\"&dev_key=8IIQgx5DrWZBwr2o',\n 'http://adslabs.org/adsabs/api/search/?q=\"DE-SC0005129\"&dev_key=8IIQgx5DrWZBwr2o',\n 'http://adslabs.org/adsabs/api/search/?q=\"DE-SC0005216\"&dev_key=8IIQgx5DrWZBwr2o',\n 'http://adslabs.org/adsabs/api/search/?q=\"DE-SC0006792\"&dev_key=8IIQgx5DrWZBwr2o']"
      }
     ],
     "prompt_number": 38
    },
    {
     "cell_type": "code",
     "collapsed": false,
     "input": "from urllib2 import *",
     "language": "python",
     "metadata": {},
     "outputs": [],
     "prompt_number": 41
    },
    {
     "cell_type": "code",
     "collapsed": false,
     "input": "records = [(urlopen(u)) for u in urllist]",
     "language": "python",
     "metadata": {},
     "outputs": [],
     "prompt_number": 42
    },
    {
     "cell_type": "code",
     "collapsed": false,
     "input": "records",
     "language": "python",
     "metadata": {},
     "outputs": [
      {
       "output_type": "pyout",
       "prompt_number": 43,
       "text": "[<addinfourl at 128339160 whose fp = <socket._fileobject object at 0x7a5adf0>>,\n <addinfourl at 128385272 whose fp = <socket._fileobject object at 0x7a5aef0>>,\n <addinfourl at 128386512 whose fp = <socket._fileobject object at 0x7a710f0>>,\n <addinfourl at 128387832 whose fp = <socket._fileobject object at 0x7a712b0>>,\n <addinfourl at 128401496 whose fp = <socket._fileobject object at 0x7a71470>>,\n <addinfourl at 128402816 whose fp = <socket._fileobject object at 0x7a71630>>,\n <addinfourl at 128338200 whose fp = <socket._fileobject object at 0x7a71570>>,\n <addinfourl at 128404776 whose fp = <socket._fileobject object at 0x7a71530>>,\n <addinfourl at 128410488 whose fp = <socket._fileobject object at 0x7a717f0>>,\n <addinfourl at 128412048 whose fp = <socket._fileobject object at 0x7a719b0>>]"
      }
     ],
     "prompt_number": 43
    },
    {
     "cell_type": "markdown",
     "metadata": {},
     "source": "to do: read files at urls and save bibcode values"
    },
    {
     "cell_type": "code",
     "collapsed": false,
     "input": "",
     "language": "python",
     "metadata": {},
     "outputs": []
    }
   ],
   "metadata": {}
  }
 ]
}