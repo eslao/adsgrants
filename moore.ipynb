{
 "metadata": {
  "name": "moore"
 },
 "nbformat": 3,
 "nbformat_minor": 0,
 "worksheets": [
  {
   "cells": [
    {
     "cell_type": "code",
     "collapsed": false,
     "input": [
      "import scrapelib"
     ],
     "language": "python",
     "metadata": {},
     "outputs": [],
     "prompt_number": 1
    },
    {
     "cell_type": "code",
     "collapsed": false,
     "input": [
      "s = scrapelib.Scraper(requests_per_minute=1, follow_robots=True)"
     ],
     "language": "python",
     "metadata": {},
     "outputs": [],
     "prompt_number": 137
    },
    {
     "cell_type": "code",
     "collapsed": false,
     "input": [
      "s.urlopen('http://www.moore.org/grant.aspx?id=826')"
     ],
     "language": "python",
     "metadata": {},
     "outputs": [
      {
       "output_type": "pyout",
       "prompt_number": 5,
       "text": [
        "u'\\r\\n<!DOCTYPE html PUBLIC \"-//W3C//DTD XHTML 1.0 Transitional//EN\" \"http://www.w3.org/TR/xhtml1/DTD/xhtml1-transitional.dtd\">\\r\\n<html xmlns=\"http://www.w3.org/1999/xhtml\">\\r\\n<head><title>\\r\\n\\tCordillera Azul National Park - Field Museum - Gordon and Betty Moore Foundation\\r\\n</title><link href=\"/css/styles.css\" rel=\"stylesheet\" type=\"text/css\" /><meta http-equiv=\"Content-Type\" content=\"text/html; charset=utf-8\" /><meta name=\"verify-v1\" content=\"fbN00v4TAAQaimZinHqiHHWo83+/3LIwhUWq0+Egy7I=\" />   \\r\\n    <script language=\"javascript\" type=\"text/javascript\" src=\"/js/jscript.js\"></script>\\r\\n<link href=\"css/grants-awarded.css\" rel=\"stylesheet\" type=\"text/css\" /></head>\\r\\n<body class=\"masterContainer\">\\r\\n<table cellpadding=\"0\" cellspacing=\"0\" border=\"0\" align=\"left\" style=\"margin-left:5px\"><tr><td>\\r\\n    <form name=\"aspnetForm\" method=\"post\" action=\"/grant.aspx?id=826\" id=\"aspnetForm\">\\r\\n<div>\\r\\n<input type=\"hidden\" name=\"__VIEWSTATE\" id=\"__VIEWSTATE\" value=\"/wEPDwUKLTIzMzk3MTA1MQ9kFgJmD2QWAmYPZBYCAgMQZGQWBAIBD2QWAgIFD2QWAgIBD2QWAmYPZBYaZg8WAh4EVGV4dAUMRmllbGQgTXVzZXVtZAIBDxYCHwAFHUNvcmRpbGxlcmEgQXp1bCBOYXRpb25hbCBQYXJrZAICDxYCHwAFCTMxIG1vbnRoc2QCAw8WAh8ABQokMiwwMDAsMDAwZAIEDxYCHwAFCU5vdi4gMjAwMWQCBQ8WAh4HVmlzaWJsZWhkAgYPFgIfAAWBA1RoaXMgZ3JhbnQgaXMgYmVpbmcgdXNlZCBieSB0aGUgRmllbGQgTXVzZXVtIHRvIHByb3ZpZGUgdGVjaG5pY2FsIHN1cHBvcnQgdG8gQ0lNQSwgYSBQZXJ1dmlhbiBjb25zZXJ2YXRpb24gb3JnYW5pemF0aW9uIHRoYXQgaXMgZGV2ZWxvcGluZyBhIGNvbXByZWhlbnNpdmUgbWFuYWdlbWVudCBwbGFuIGZvciB0aGUgQ29yZGlsbGVyYSBBenVsIG5hdGlvbmFsIHBhcmsgaW4gY2VudHJhbCBQZXJ1LiBPdXRjb21lcyBpbmNsdWRlIGltcGxlbWVudGF0aW9uIG9mIHBhcmsgaW5mcmFzdHJ1Y3R1cmUgYW5kIG1hbmFnZW1lbnQsIGFuZCBlbmdhZ2VtZW50IG9mIGxvY2FsIGNvbW11bmljYXRpb24gZm9yIHRoZSBjcmVhdGlvbiBvZiB0aGUgcGFyayBhbmQgaXRzIGJ1ZmZlciB6b25lLiBkAgcPFgIfAAUaaHR0cDovL3d3dy5maWVsZG11c2V1bS5vcmdkAggPFgIfAAUMRmllbGQgTXVzZXVtZAIJDxYCHwAFP2h0dHA6Ly93d3cuZmllbGRtdXNldW0ub3JnL3Jlc2VhcmNoX2NvbGxlY3Rpb25zL2VjcC9kZWZhdWx0Lmh0bWQCCg8WAh8ABT9odHRwOi8vd3d3LmZpZWxkbXVzZXVtLm9yZy9yZXNlYXJjaF9jb2xsZWN0aW9ucy9lY3AvZGVmYXVsdC5odG1kAgsPFgIfAGVkAgwPZBYIAgEPDxYEHwAFGkVudmlyb25tZW50YWwgQ29uc2VydmF0aW9uHgtOYXZpZ2F0ZVVybAURL2Vudmlyb25tZW50LmFzcHhkZAIDDw8WBB8ABRdBbmRlcy1BbWF6b24gSW5pdGlhdGl2ZR8CBRIvYW5kZXMtYW1hem9uLmFzcHhkZAIEDxYCHwFoZAIFDw8WAh8BaGRkAgIPFgIeCWlubmVyaHRtbAUtJmNvcHk7IDIwMTMgR29yZG9uIGFuZCBCZXR0eSBNb29yZSBGb3VuZGF0aW9uZGRnd8QPy+ZnE6VANS4TIX9Y2Kj80A==\" />\\r\\n</div>\\r\\n\\r\\n<div>\\r\\n\\r\\n\\t<input type=\"hidden\" name=\"__PREVIOUSPAGE\" id=\"__PREVIOUSPAGE\" value=\"3l1gBA6YDTMq1Q_s4LsPxz5Ve-SOeKN_xgcc9wuumVWd0sRHhFFZg84eYBOufU3gDWUsGhkng6UlnyZvxICIu_fXe4k1\" />\\r\\n\\t<input type=\"hidden\" name=\"__EVENTVALIDATION\" id=\"__EVENTVALIDATION\" value=\"/wEWAwL2qr+UDQLt8PqaCQLoxrSwASXgKysF6Uf/B6wXLboMY5Sq3HtJ\" />\\r\\n</div>\\r\\n        <div id=\"topContainer\">\\r\\n            <table cellpadding=\"0\" cellspacing=\"0\" border=\"0\">\\r\\n                <tr>\\r\\n                    <td style=\"vertical-align: bottom;\">\\r\\n                        <a href=\"/\">\\r\\n                            <img src=\"/images/banner4.gif\" width=\"584\" style=\"margin-left: 0px; border: 0px;\" alt=\"Gordon and Betty Moore Foundation\" /></a></td>\\r\\n                    <td style=\"background-color: #015742; vertical-align: top;\" align=\"right\">\\r\\n                        <div style=\"background-color: #015742; width: 198px; height: 47px\">\\r\\n                            <div>\\r\\n\\t\\r\\n                                <table cellspacing=\"0\" cellpadding=\"0\" border=\"0\" style=\"margin-top: 5px; margin-right: 5px;\">\\r\\n                                    <tr>\\r\\n                                        <td><input id=\"q\" name=\"q\" style=\"width: 120px; height: 16px; margin-right:4px\" /><input type=\"submit\" name=\"ctl00$ctl00$SearchButton\" value=\"Search\" onclick=\"javascript:WebForm_DoPostBackWithOptions(new WebForm_PostBackOptions(&quot;ctl00$ctl00$SearchButton&quot;, &quot;&quot;, false, &quot;&quot;, &quot;search.aspx&quot;, false, false))\" id=\"ctl00_ctl00_SearchButton\" class=\"search\" /></td>\\r\\n                                </tr>\\r\\n                                    <tr>\\r\\n                                        <td align=\"right\"><div style=\"margin-top:2px\"><a href=\"/\" class=\"smallwhite\">Home</a>&nbsp;&nbsp;&nbsp;<a href=\"/contact.aspx\" class=\"smallwhite\">Contact Us</a></div></td>\\r\\n                                    </tr>\\r\\n                                </table>\\r\\n                            \\r\\n</div>\\r\\n                        </div>\\r\\n                    </td>\\r\\n                </tr>\\r\\n                <tr>\\r\\n                    <td valign=\"top\" colspan=\"2\"><a href=\"/\"><img src=\"/images/banner-bottom2.gif\" style=\"vertical-align:top; margin-left: 0px; border: 0px\" alt=\"\" /></a><a href=\"/about.aspx\"><img src=\"/images/but_aboutus2.gif\" onmouseover=\"this.src=\\'/images/but_aboutus3_on.gif\\'\" onmouseout=\"this.src=\\'/images/but_aboutus2.gif\\'\" style=\"border: 0px; vertical-align:top\" alt=\"About Us\" /></a><img src=\"/images/home_header_spacer_sub.gif\" style=\"border: 0px; vertical-align:top\" alt=\"\" /><a href=\"/grants-awarded.aspx\"><img src=\"/images/but_grantsawarded3_on.gif\" style=\"border: 0px; vertical-align:top\" alt=\"Grants Awarded\" /></a><img src=\"/images/home_header_spacer_sub.gif\" style=\"border: 0px; vertical-align:top\" alt=\"\" /><a href=\"/news.aspx\"><img src=\"/images/but_newsroom2.gif\" style=\"border: 0px; vertical-align:top\" onmouseover=\"this.src=\\'/images/but_newsroom3_on.gif\\'\" onmouseout=\"this.src=\\'/images/but_newsroom2.gif\\'\" alt=\"Newsroom\" /></a><img src=\"/images/home_header_spacer_rt_sub.gif\" style=\"border: 0px; vertical-align:top\" alt=\"\" /></td>\\r\\n                </tr>\\r\\n            </table>\\r\\n        </div>\\r\\n        <div id=\"topContainerPrint\">\\r\\n            <table cellpadding=\"0\" cellspacing=\"0\" width=\"100%\" style=\"margin-left:7px;background-color:#015742\">\\r\\n                <tr>\\r\\n                    <td><img src=\"/images/header_print.gif\" style=\"border:0px;\" alt=\"Print\" /></td>\\r\\n                </tr>\\r\\n            </table>\\r\\n        </div>\\r\\n        <table cellpadding=\"0\" cellspacing=\"0\" border=\"0\" style=\"margin-left: 0px;\">\\r\\n            <tr>\\r\\n                <td valign=\"top\">\\r\\n                 \\r\\n      <div id=\"leftNav\">\\r\\n         <div class=\"leftNavContainer\">\\t   \\r\\n            <div style=\"border-right:solid 1px #d5d5d5;\" class=\"leftNavProgramArea\" onmouseover=\"this.className=\\'leftNavProgramAreaSelected\\'\" onmouseout=\"this.className=\\'leftNavProgramArea\\'\" onclick=\"document.location.href=\\'/environment.aspx\\'\">ENVIRONMENTAL CONSERVATION</div><div style=\"margin-top:4px;margin-bottom:4px\"></div><div style=\"border-right:solid 1px #d5d5d5;\" class=\"leftNavProgramArea\" onmouseover=\"this.className=\\'leftNavProgramAreaSelected\\'\" onmouseout=\"this.className=\\'leftNavProgramArea\\'\" onclick=\"document.location.href=\\'/patient-care/\\'\">PATIENT CARE</div><div style=\"margin-top:4px;margin-bottom:4px\"></div><div style=\"border-right:solid 1px #d5d5d5;\" class=\"leftNavProgramArea\" onmouseover=\"this.className=\\'leftNavProgramAreaSelected\\'\" onmouseout=\"this.className=\\'leftNavProgramArea\\'\" onclick=\"document.location.href=\\'/science.aspx\\'\">SCIENCE</div><div style=\"margin-top:4px;margin-bottom:4px\"></div><div style=\"border-right:solid 1px #d5d5d5;\" class=\"leftNavProgramArea\" onmouseover=\"this.className=\\'leftNavProgramAreaSelected\\'\" onmouseout=\"this.className=\\'leftNavProgramArea\\'\" onclick=\"document.location.href=\\'/bayarea.aspx\\'\">SAN FRANCISCO <br/> BAY AREA</div>\\t\\t\\t\\t\\t                \\r\\n         </div>    \\r\\n          \\r\\n      </div>\\r\\n    </td>\\r\\n    <td valign=\"top\">\\r\\n      \\r\\n    <div class=\"contentContainerWide\">\\r\\n        <h1>Grants Awarded</h1>\\r\\n        <h2>Grant Summary</h2>\\r\\n        <div class=\"maincontent\">\\r\\n            <div id=\"ctl00_ctl00_main_middle_sub_middle_right_grant_item_Panel1\">\\r\\n\\t\\r\\n            <div style=\"margin-top:6px\"><span style=\"color: #000000; font-size:15px; font-weight:bold; \">Field Museum</span></div>\\r\\n            <span style=\"color: #000000; font-size:14px; font-weight:normal\">Cordillera Azul National Park</span>\\r\\n           <table width=\"100%\" cellpadding=\"0\" cellspacing=\"0\" border=\"0\" style=\"margin-top:6px;\">\\r\\n            <tr>\\r\\n                <td>\\r\\n                <table width=\"100%\" border=\"0\" cellpadding=\"0\" cellspacing=\"0\">\\r\\n     <tr>\\r\\n                <td style=\"width:65%\">\\r\\n                <div class=\"container\">\\r\\n                <b class=\"rtop\"><b class=\"r1\"></b> <b class=\"r2\"></b> <b class=\"r3\"></b> <b class=\"r4\"></b></b>\\r\\n                <div style=\"padding:0px 6px 0px 6px; border-left: solid 1px #e0e0e0; border-right: solid 1px #e0e0e0;\">\\r\\n                <table cellpadding=\"0\" cellspacing=\"0\" width=\"100%\">\\r\\n                <tr>\\r\\n                <td><span style=\"font-family:Arial, Helvetica, sans-serif; font-size:11px; font-weight:bold\">Term</span></td>\\r\\n                <td><span style=\"font-family:Arial, Helvetica, sans-serif; font-size:11px; font-weight:bold\">Amount</span></td>\\r\\n                <td><span style=\"font-family:Arial, Helvetica, sans-serif; font-size:11px; font-weight:bold\">Date Approved</span></td>                             \\r\\n                </tr>\\r\\n                <tr>\\r\\n                <td><span style=\"font-family:Arial, Helvetica, sans-serif; font-size:11px; font-weight:normal\">31 months</span></td>\\r\\n                <td><span style=\"font-family:Arial, Helvetica, sans-serif; font-size:11px; font-weight:normal\">$2,000,000</span></td>\\r\\n                <td><span style=\"font-family:Arial, Helvetica, sans-serif; font-size:11px; font-weight:normal\">Nov. 2001</span></td>\\r\\n                </tr>\\r\\n                </table>\\r\\n                </div>\\r\\n                </div>\\r\\n                </td>\\r\\n                <td valign=\"bottom\" style=\"width:270px\" align=\"right\"></td>\\r\\n                </tr>\\r\\n                </table>\\r\\n                <div style=\"background-color:#fffce9; border: solid 1px #e0e0e0; padding:2px 6px 6px 6px\">\\r\\n                <div style=\"font-family:Arial, Helvetica, sans-serif; font-size:11px; font-weight:bold; margin-top:6px;margin-bottom:6px\">Purpose<br/>\\r\\n                <span style=\"font-family:Arial, Helvetica, sans-serif; font-size:11px; font-weight:normal\">This grant is being used by the Field Museum to provide technical support to CIMA, a Peruvian conservation organization that is developing a comprehensive management plan for the Cordillera Azul national park in central Peru. Outcomes include implementation of park infrastructure and management, and engagement of local communication for the creation of the park and its buffer zone. </span></div>\\r\\n                 \\r\\n            <div style=\"font-family:Arial, Helvetica, sans-serif; font-size:11px; font-weight:bold;margin-bottom:6px\">Grantee Websites<br/> \\r\\n                    <span style=\"font-weight:normal\"><a class=\"rightnavsub\" href=\\'http://www.fieldmuseum.org\\' target=\"_blank\">Field Museum <img src=\"/images/arrow_link_blue.gif\" style=\"border:0px;\" alt=\"External Link\" /></a><br/></span>\\r\\n                   <span style=\"font-weight:normal\"><a class=\"rightnavsub\" href=\\'http://www.fieldmuseum.org/research_collections/ecp/default.htm\\' target=\"_blank\">http://www.fieldmuseum.org/research_collections/ecp/default.htm <img src=\"/images/arrow_link_blue.gif\" style=\"border:0px;\" alt=\"External Link\" /></a><br /></span>\\r\\n                    \\r\\n                </div>\\r\\n                 \\r\\n                </div>\\r\\n                    <div id=\"ctl00_ctl00_main_middle_sub_middle_right_grant_item_funding_area_path\" style=\"background-color:#FFFFFF;padding:0px 6px 0px 6px;\">\\r\\n                    <div class=\"containerx\">\\r\\n                    <div style=\"padding:3px 6px 0px 6px; border-left: solid 1px #e0e0e0;border-top:solid 1px #adaead; border-right: solid 1px #e0e0e0\">\\r\\n                    <span style=\"font-family:Arial, Helvetica, sans-serif; font-size:11px; font-weight:bold\">Funding area:&nbsp;&nbsp;</span><a id=\"ctl00_ctl00_main_middle_sub_middle_right_grant_item_program_area_hyperlink\" class=\"rightnavsub\" href=\"/environment.aspx\">Environmental Conservation</a><span style=\"font-family:Arial, Helvetica, sans-serif; font-size:11px; font-weight:normal\">&nbsp;&nbsp;/&nbsp;&nbsp;</span><a id=\"ctl00_ctl00_main_middle_sub_middle_right_grant_item_initiative_hyperlink\" class=\"rightnavsub\" href=\"/andes-amazon.aspx\">Andes-Amazon Initiative</a></div><b class=\"rbottomx\"><b class=\"r4x\"></b> <b class=\"r3x\"></b> <b class=\"r2x\"></b> <b class=\"r1x\"></b></b>\\r\\n                        </div></div>\\r\\n                        </td>\\r\\n                        </tr>\\r\\n                        </table>\\r\\n                    \\r\\n        \\r\\n</div>\\r\\n        </div>\\r\\n    </div>\\r\\n\\r\\n\\r\\n                    </div>\\r\\n                </td>\\r\\n            </tr>\\r\\n        </table>\\r\\n        <div class=\"footerContainer\">\\r\\n        <table width=\"100%\" cellspacing=\"0\" cellpadding=\"0\" style=\"padding-top:4px; padding-bottom:10px\">\\r\\n            <tr>\\r\\n            <td><a href=\"/\" class=\"footerLinks\">Home</a>&nbsp;&nbsp;&nbsp;&nbsp;<a href=\"/legal.aspx\" class=\"footerLinks\">Legal Statement</a>&nbsp;&nbsp;&nbsp;&nbsp;<a href=\"/photo-credits.aspx\" class=\"footerLinks\">Photo Credits</a></td>\\r\\n            <td align=\"right\"><span id=\"ctl00_ctl00_spnFooter\">&copy; 2013 Gordon and Betty Moore Foundation</span></td>\\r\\n        </tr>\\r\\n        </table>\\r\\n        <input type=\"submit\" name=\"ctl00$ctl00$btnWorkAround\" value=\"\" id=\"ctl00_ctl00_btnWorkAround\" disabled=\"disabled\" style=\"display:none\" />\\r\\n        </div>\\r\\n    </form>\\r\\n    </td></tr></table>\\r\\n<script src=\"http://www.google-analytics.com/urchin.js\" type=\"text/javascript\">\\r\\n</script>\\r\\n<script type=\"text/javascript\">\\r\\n_uacct = \"UA-420794-1\";\\r\\nurchinTracker();\\r\\n</script>    \\r\\n</body>\\r\\n</html>\\r\\n'"
       ]
      }
     ],
     "prompt_number": 5
    },
    {
     "cell_type": "code",
     "collapsed": false,
     "input": [
      "award=826"
     ],
     "language": "python",
     "metadata": {},
     "outputs": [],
     "prompt_number": 61
    },
    {
     "cell_type": "code",
     "collapsed": false,
     "input": [
      "type(award)"
     ],
     "language": "python",
     "metadata": {},
     "outputs": [
      {
       "output_type": "pyout",
       "prompt_number": 62,
       "text": [
        "int"
       ]
      }
     ],
     "prompt_number": 62
    },
    {
     "cell_type": "code",
     "collapsed": false,
     "input": [
      "url = 'http://www.moore.org/grant.aspx?id=' + str(award)"
     ],
     "language": "python",
     "metadata": {},
     "outputs": [],
     "prompt_number": 63
    },
    {
     "cell_type": "code",
     "collapsed": false,
     "input": [
      "awards = [a for a in range(4000,4010)]"
     ],
     "language": "python",
     "metadata": {},
     "outputs": [],
     "prompt_number": 127
    },
    {
     "cell_type": "code",
     "collapsed": false,
     "input": [
      "awards"
     ],
     "language": "python",
     "metadata": {},
     "outputs": [
      {
       "output_type": "pyout",
       "prompt_number": 128,
       "text": [
        "[4000, 4001, 4002, 4003, 4004, 4005, 4006, 4007, 4008, 4009]"
       ]
      }
     ],
     "prompt_number": 128
    },
    {
     "cell_type": "code",
     "collapsed": false,
     "input": [
      "urls = [('http://www.moore.org/grant.aspx?id=' + str(a)) for a in awards]"
     ],
     "language": "python",
     "metadata": {},
     "outputs": [],
     "prompt_number": 129
    },
    {
     "cell_type": "code",
     "collapsed": false,
     "input": [
      "urls[0]"
     ],
     "language": "python",
     "metadata": {},
     "outputs": [
      {
       "output_type": "pyout",
       "prompt_number": 130,
       "text": [
        "'http://www.moore.org/grant.aspx?id=4000'"
       ]
      }
     ],
     "prompt_number": 130
    },
    {
     "cell_type": "code",
     "collapsed": false,
     "input": [
      "record = s.urlopen(urls[0])"
     ],
     "language": "python",
     "metadata": {},
     "outputs": [],
     "prompt_number": 131
    },
    {
     "cell_type": "code",
     "collapsed": false,
     "input": [
      "record"
     ],
     "language": "python",
     "metadata": {},
     "outputs": [
      {
       "output_type": "pyout",
       "prompt_number": 132,
       "text": [
        "u'\\r\\n<!DOCTYPE html PUBLIC \"-//W3C//DTD XHTML 1.0 Transitional//EN\" \"http://www.w3.org/TR/xhtml1/DTD/xhtml1-transitional.dtd\">\\r\\n<html xmlns=\"http://www.w3.org/1999/xhtml\">\\r\\n<head><title>\\r\\n\\tAirborne Taxonomic Mapping System - Carnegie Institution of Washington - Gordon and Betty Moore Foundation\\r\\n</title><link href=\"/css/styles.css\" rel=\"stylesheet\" type=\"text/css\" /><meta http-equiv=\"Content-Type\" content=\"text/html; charset=utf-8\" /><meta name=\"verify-v1\" content=\"fbN00v4TAAQaimZinHqiHHWo83+/3LIwhUWq0+Egy7I=\" />   \\r\\n    <script language=\"javascript\" type=\"text/javascript\" src=\"/js/jscript.js\"></script>\\r\\n<link href=\"css/grants-awarded.css\" rel=\"stylesheet\" type=\"text/css\" /></head>\\r\\n<body class=\"masterContainer\">\\r\\n<table cellpadding=\"0\" cellspacing=\"0\" border=\"0\" align=\"left\" style=\"margin-left:5px\"><tr><td>\\r\\n    <form name=\"aspnetForm\" method=\"post\" action=\"/grant.aspx?id=4000\" id=\"aspnetForm\">\\r\\n<div>\\r\\n<input type=\"hidden\" name=\"__VIEWSTATE\" id=\"__VIEWSTATE\" value=\"/wEPDwUKLTIzMzk3MTA1MQ9kFgJmD2QWAmYPZBYCAgMQZGQWBAIBD2QWAgIFD2QWAgIBD2QWAmYPZBYaZg8WAh4EVGV4dAUiQ2FybmVnaWUgSW5zdGl0dXRpb24gb2YgV2FzaGluZ3RvbmQCAQ8WAh8ABSFBaXJib3JuZSBUYXhvbm9taWMgTWFwcGluZyBTeXN0ZW1kAgIPFgIfAAUJMjQgbW9udGhzZAIDDxYCHwAFCiQ1LDI1MCwwMDBkAgQPFgIfAAUJTm92LiAyMDA4ZAIFDxYCHgdWaXNpYmxlaGQCBg8WAh8ABYoCVG8gZGV2ZWxvcCBhbmQgaW50ZWdyYXRlIGEgbmV4dCBnZW5lcmF0aW9uIHNwZWN0cm9tZXRlciBpbnRvIHRoZSBBaXJib3JuZSBUYXhvbm9taWMgTWFwcGluZyBTeXN0ZW0sIGEgcmVtb3RlIHNlbnNpbmcgc3lzdGVtIGRlc2lnbmVkIHRvIGFjY3VyYXRlbHkgaWRlbnRpZnkgdGhlIGNoZW1pY2FsLCBzdHJ1Y3R1cmFsIGFuZCB0YXhvbm9taWMgbWFrZXVwIG9mIHRyb3BpYyBmb3Jlc3RzIGF0IGFuIHVucHJlY2VkZW50ZWQgc2NhbGUgYW5kIGxldmVsIG9mIGRldGFpbC5kAgcPFgIfAAUjaHR0cDovL3d3dy5jYXJuZWdpZWluc3RpdGl1dGlvbi5vcmdkAggPFgIfAAUiQ2FybmVnaWUgSW5zdGl0dXRpb24gb2YgV2FzaGluZ3RvbmQCCQ8WAh8AZWQCCg8WAh8AZWQCCw8WAh8AZWQCDA9kFggCAQ8PFgQfAAUHU2NpZW5jZR4LTmF2aWdhdGVVcmwFDS9zY2llbmNlLmFzcHhkZAIDDw8WBB8ABRZTY2llbmNlIFByb2dyYW0gR3JhbnRzHwIFFS9zY2llbmNlLXNwZWNpYWwuYXNweGRkAgQPFgIfAWhkAgUPDxYCHwFoZGQCAg8WAh4JaW5uZXJodG1sBS0mY29weTsgMjAxMyBHb3Jkb24gYW5kIEJldHR5IE1vb3JlIEZvdW5kYXRpb25kZDy4oX+BXkhjSXJa6dC64FOm1q+x\" />\\r\\n</div>\\r\\n\\r\\n<div>\\r\\n\\r\\n\\t<input type=\"hidden\" name=\"__PREVIOUSPAGE\" id=\"__PREVIOUSPAGE\" value=\"3l1gBA6YDTMq1Q_s4LsPxz5Ve-SOeKN_xgcc9wuumVWd0sRHhFFZg84eYBOufU3gDWUsGhkng6UlnyZvxICIu_fXe4k1\" />\\r\\n\\t<input type=\"hidden\" name=\"__EVENTVALIDATION\" id=\"__EVENTVALIDATION\" value=\"/wEWAwLTxoXsDwLt8PqaCQLoxrSwAR7CB4eyr9fCAfZgnAKBMGbMM7+d\" />\\r\\n</div>\\r\\n        <div id=\"topContainer\">\\r\\n            <table cellpadding=\"0\" cellspacing=\"0\" border=\"0\">\\r\\n                <tr>\\r\\n                    <td style=\"vertical-align: bottom;\">\\r\\n                        <a href=\"/\">\\r\\n                            <img src=\"/images/banner4.gif\" width=\"584\" style=\"margin-left: 0px; border: 0px;\" alt=\"Gordon and Betty Moore Foundation\" /></a></td>\\r\\n                    <td style=\"background-color: #015742; vertical-align: top;\" align=\"right\">\\r\\n                        <div style=\"background-color: #015742; width: 198px; height: 47px\">\\r\\n                            <div>\\r\\n\\t\\r\\n                                <table cellspacing=\"0\" cellpadding=\"0\" border=\"0\" style=\"margin-top: 5px; margin-right: 5px;\">\\r\\n                                    <tr>\\r\\n                                        <td><input id=\"q\" name=\"q\" style=\"width: 120px; height: 16px; margin-right:4px\" /><input type=\"submit\" name=\"ctl00$ctl00$SearchButton\" value=\"Search\" onclick=\"javascript:WebForm_DoPostBackWithOptions(new WebForm_PostBackOptions(&quot;ctl00$ctl00$SearchButton&quot;, &quot;&quot;, false, &quot;&quot;, &quot;search.aspx&quot;, false, false))\" id=\"ctl00_ctl00_SearchButton\" class=\"search\" /></td>\\r\\n                                </tr>\\r\\n                                    <tr>\\r\\n                                        <td align=\"right\"><div style=\"margin-top:2px\"><a href=\"/\" class=\"smallwhite\">Home</a>&nbsp;&nbsp;&nbsp;<a href=\"/contact.aspx\" class=\"smallwhite\">Contact Us</a></div></td>\\r\\n                                    </tr>\\r\\n                                </table>\\r\\n                            \\r\\n</div>\\r\\n                        </div>\\r\\n                    </td>\\r\\n                </tr>\\r\\n                <tr>\\r\\n                    <td valign=\"top\" colspan=\"2\"><a href=\"/\"><img src=\"/images/banner-bottom2.gif\" style=\"vertical-align:top; margin-left: 0px; border: 0px\" alt=\"\" /></a><a href=\"/about.aspx\"><img src=\"/images/but_aboutus2.gif\" onmouseover=\"this.src=\\'/images/but_aboutus3_on.gif\\'\" onmouseout=\"this.src=\\'/images/but_aboutus2.gif\\'\" style=\"border: 0px; vertical-align:top\" alt=\"About Us\" /></a><img src=\"/images/home_header_spacer_sub.gif\" style=\"border: 0px; vertical-align:top\" alt=\"\" /><a href=\"/grants-awarded.aspx\"><img src=\"/images/but_grantsawarded3_on.gif\" style=\"border: 0px; vertical-align:top\" alt=\"Grants Awarded\" /></a><img src=\"/images/home_header_spacer_sub.gif\" style=\"border: 0px; vertical-align:top\" alt=\"\" /><a href=\"/news.aspx\"><img src=\"/images/but_newsroom2.gif\" style=\"border: 0px; vertical-align:top\" onmouseover=\"this.src=\\'/images/but_newsroom3_on.gif\\'\" onmouseout=\"this.src=\\'/images/but_newsroom2.gif\\'\" alt=\"Newsroom\" /></a><img src=\"/images/home_header_spacer_rt_sub.gif\" style=\"border: 0px; vertical-align:top\" alt=\"\" /></td>\\r\\n                </tr>\\r\\n            </table>\\r\\n        </div>\\r\\n        <div id=\"topContainerPrint\">\\r\\n            <table cellpadding=\"0\" cellspacing=\"0\" width=\"100%\" style=\"margin-left:7px;background-color:#015742\">\\r\\n                <tr>\\r\\n                    <td><img src=\"/images/header_print.gif\" style=\"border:0px;\" alt=\"Print\" /></td>\\r\\n                </tr>\\r\\n            </table>\\r\\n        </div>\\r\\n        <table cellpadding=\"0\" cellspacing=\"0\" border=\"0\" style=\"margin-left: 0px;\">\\r\\n            <tr>\\r\\n                <td valign=\"top\">\\r\\n                 \\r\\n      <div id=\"leftNav\">\\r\\n         <div class=\"leftNavContainer\">\\t   \\r\\n            <div style=\"border-right:solid 1px #d5d5d5;\" class=\"leftNavProgramArea\" onmouseover=\"this.className=\\'leftNavProgramAreaSelected\\'\" onmouseout=\"this.className=\\'leftNavProgramArea\\'\" onclick=\"document.location.href=\\'/environment.aspx\\'\">ENVIRONMENTAL CONSERVATION</div><div style=\"margin-top:4px;margin-bottom:4px\"></div><div style=\"border-right:solid 1px #d5d5d5;\" class=\"leftNavProgramArea\" onmouseover=\"this.className=\\'leftNavProgramAreaSelected\\'\" onmouseout=\"this.className=\\'leftNavProgramArea\\'\" onclick=\"document.location.href=\\'/patient-care/\\'\">PATIENT CARE</div><div style=\"margin-top:4px;margin-bottom:4px\"></div><div style=\"border-right:solid 1px #d5d5d5;\" class=\"leftNavProgramArea\" onmouseover=\"this.className=\\'leftNavProgramAreaSelected\\'\" onmouseout=\"this.className=\\'leftNavProgramArea\\'\" onclick=\"document.location.href=\\'/science.aspx\\'\">SCIENCE</div><div style=\"margin-top:4px;margin-bottom:4px\"></div><div style=\"border-right:solid 1px #d5d5d5;\" class=\"leftNavProgramArea\" onmouseover=\"this.className=\\'leftNavProgramAreaSelected\\'\" onmouseout=\"this.className=\\'leftNavProgramArea\\'\" onclick=\"document.location.href=\\'/bayarea.aspx\\'\">SAN FRANCISCO <br/> BAY AREA</div>\\t\\t\\t\\t\\t                \\r\\n         </div>    \\r\\n          \\r\\n      </div>\\r\\n    </td>\\r\\n    <td valign=\"top\">\\r\\n      \\r\\n    <div class=\"contentContainerWide\">\\r\\n        <h1>Grants Awarded</h1>\\r\\n        <h2>Grant Summary</h2>\\r\\n        <div class=\"maincontent\">\\r\\n            <div id=\"ctl00_ctl00_main_middle_sub_middle_right_grant_item_Panel1\">\\r\\n\\t\\r\\n            <div style=\"margin-top:6px\"><span style=\"color: #000000; font-size:15px; font-weight:bold; \">Carnegie Institution of Washington</span></div>\\r\\n            <span style=\"color: #000000; font-size:14px; font-weight:normal\">Airborne Taxonomic Mapping System</span>\\r\\n           <table width=\"100%\" cellpadding=\"0\" cellspacing=\"0\" border=\"0\" style=\"margin-top:6px;\">\\r\\n            <tr>\\r\\n                <td>\\r\\n                <table width=\"100%\" border=\"0\" cellpadding=\"0\" cellspacing=\"0\">\\r\\n     <tr>\\r\\n                <td style=\"width:65%\">\\r\\n                <div class=\"container\">\\r\\n                <b class=\"rtop\"><b class=\"r1\"></b> <b class=\"r2\"></b> <b class=\"r3\"></b> <b class=\"r4\"></b></b>\\r\\n                <div style=\"padding:0px 6px 0px 6px; border-left: solid 1px #e0e0e0; border-right: solid 1px #e0e0e0;\">\\r\\n                <table cellpadding=\"0\" cellspacing=\"0\" width=\"100%\">\\r\\n                <tr>\\r\\n                <td><span style=\"font-family:Arial, Helvetica, sans-serif; font-size:11px; font-weight:bold\">Term</span></td>\\r\\n                <td><span style=\"font-family:Arial, Helvetica, sans-serif; font-size:11px; font-weight:bold\">Amount</span></td>\\r\\n                <td><span style=\"font-family:Arial, Helvetica, sans-serif; font-size:11px; font-weight:bold\">Date Approved</span></td>                             \\r\\n                </tr>\\r\\n                <tr>\\r\\n                <td><span style=\"font-family:Arial, Helvetica, sans-serif; font-size:11px; font-weight:normal\">24 months</span></td>\\r\\n                <td><span style=\"font-family:Arial, Helvetica, sans-serif; font-size:11px; font-weight:normal\">$5,250,000</span></td>\\r\\n                <td><span style=\"font-family:Arial, Helvetica, sans-serif; font-size:11px; font-weight:normal\">Nov. 2008</span></td>\\r\\n                </tr>\\r\\n                </table>\\r\\n                </div>\\r\\n                </div>\\r\\n                </td>\\r\\n                <td valign=\"bottom\" style=\"width:270px\" align=\"right\"></td>\\r\\n                </tr>\\r\\n                </table>\\r\\n                <div style=\"background-color:#fffce9; border: solid 1px #e0e0e0; padding:2px 6px 6px 6px\">\\r\\n                <div style=\"font-family:Arial, Helvetica, sans-serif; font-size:11px; font-weight:bold; margin-top:6px;margin-bottom:6px\">Purpose<br/>\\r\\n                <span style=\"font-family:Arial, Helvetica, sans-serif; font-size:11px; font-weight:normal\">To develop and integrate a next generation spectrometer into the Airborne Taxonomic Mapping System, a remote sensing system designed to accurately identify the chemical, structural and taxonomic makeup of tropic forests at an unprecedented scale and level of detail.</span></div>\\r\\n                 \\r\\n            <div style=\"font-family:Arial, Helvetica, sans-serif; font-size:11px; font-weight:bold;margin-bottom:6px\">Grantee Websites<br/> \\r\\n                    <span style=\"font-weight:normal\"><a class=\"rightnavsub\" href=\\'http://www.carnegieinstitiution.org\\' target=\"_blank\">Carnegie Institution of Washington <img src=\"/images/arrow_link_blue.gif\" style=\"border:0px;\" alt=\"External Link\" /></a><br/></span>\\r\\n                   \\r\\n                </div>\\r\\n                 \\r\\n                </div>\\r\\n                    <div id=\"ctl00_ctl00_main_middle_sub_middle_right_grant_item_funding_area_path\" style=\"background-color:#FFFFFF;padding:0px 6px 0px 6px;\">\\r\\n                    <div class=\"containerx\">\\r\\n                    <div style=\"padding:3px 6px 0px 6px; border-left: solid 1px #e0e0e0;border-top:solid 1px #adaead; border-right: solid 1px #e0e0e0\">\\r\\n                    <span style=\"font-family:Arial, Helvetica, sans-serif; font-size:11px; font-weight:bold\">Funding area:&nbsp;&nbsp;</span><a id=\"ctl00_ctl00_main_middle_sub_middle_right_grant_item_program_area_hyperlink\" class=\"rightnavsub\" href=\"/science.aspx\">Science</a><span style=\"font-family:Arial, Helvetica, sans-serif; font-size:11px; font-weight:normal\">&nbsp;&nbsp;/&nbsp;&nbsp;</span><a id=\"ctl00_ctl00_main_middle_sub_middle_right_grant_item_initiative_hyperlink\" class=\"rightnavsub\" href=\"/science-special.aspx\">Science Program Grants</a></div><b class=\"rbottomx\"><b class=\"r4x\"></b> <b class=\"r3x\"></b> <b class=\"r2x\"></b> <b class=\"r1x\"></b></b>\\r\\n                        </div></div>\\r\\n                        </td>\\r\\n                        </tr>\\r\\n                        </table>\\r\\n                    \\r\\n        \\r\\n</div>\\r\\n        </div>\\r\\n    </div>\\r\\n\\r\\n\\r\\n                    </div>\\r\\n                </td>\\r\\n            </tr>\\r\\n        </table>\\r\\n        <div class=\"footerContainer\">\\r\\n        <table width=\"100%\" cellspacing=\"0\" cellpadding=\"0\" style=\"padding-top:4px; padding-bottom:10px\">\\r\\n            <tr>\\r\\n            <td><a href=\"/\" class=\"footerLinks\">Home</a>&nbsp;&nbsp;&nbsp;&nbsp;<a href=\"/legal.aspx\" class=\"footerLinks\">Legal Statement</a>&nbsp;&nbsp;&nbsp;&nbsp;<a href=\"/photo-credits.aspx\" class=\"footerLinks\">Photo Credits</a></td>\\r\\n            <td align=\"right\"><span id=\"ctl00_ctl00_spnFooter\">&copy; 2013 Gordon and Betty Moore Foundation</span></td>\\r\\n        </tr>\\r\\n        </table>\\r\\n        <input type=\"submit\" name=\"ctl00$ctl00$btnWorkAround\" value=\"\" id=\"ctl00_ctl00_btnWorkAround\" disabled=\"disabled\" style=\"display:none\" />\\r\\n        </div>\\r\\n    </form>\\r\\n    </td></tr></table>\\r\\n<script src=\"http://www.google-analytics.com/urchin.js\" type=\"text/javascript\">\\r\\n</script>\\r\\n<script type=\"text/javascript\">\\r\\n_uacct = \"UA-420794-1\";\\r\\nurchinTracker();\\r\\n</script>    \\r\\n</body>\\r\\n</html>\\r\\n'"
       ]
      }
     ],
     "prompt_number": 132
    },
    {
     "cell_type": "code",
     "collapsed": false,
     "input": [
      "record = s.urlopen(urls[0])"
     ],
     "language": "python",
     "metadata": {},
     "outputs": [],
     "prompt_number": 133
    },
    {
     "cell_type": "code",
     "collapsed": false,
     "input": [
      "record[185:276]"
     ],
     "language": "python",
     "metadata": {},
     "outputs": [
      {
       "output_type": "pyout",
       "prompt_number": 134,
       "text": [
        "u'\\tAirborne Taxonomic Mapping System - Carnegie Institution of Washington - Gordon and Betty '"
       ]
      }
     ],
     "prompt_number": 134
    },
    {
     "cell_type": "code",
     "collapsed": false,
     "input": [
      "urls"
     ],
     "language": "python",
     "metadata": {},
     "outputs": [
      {
       "output_type": "pyout",
       "prompt_number": 135,
       "text": [
        "['http://www.moore.org/grant.aspx?id=4000',\n",
        " 'http://www.moore.org/grant.aspx?id=4001',\n",
        " 'http://www.moore.org/grant.aspx?id=4002',\n",
        " 'http://www.moore.org/grant.aspx?id=4003',\n",
        " 'http://www.moore.org/grant.aspx?id=4004',\n",
        " 'http://www.moore.org/grant.aspx?id=4005',\n",
        " 'http://www.moore.org/grant.aspx?id=4006',\n",
        " 'http://www.moore.org/grant.aspx?id=4007',\n",
        " 'http://www.moore.org/grant.aspx?id=4008',\n",
        " 'http://www.moore.org/grant.aspx?id=4009']"
       ]
      }
     ],
     "prompt_number": 135
    },
    {
     "cell_type": "code",
     "collapsed": false,
     "input": [
      "records = [(s.urlopen(u)) for u in urls]"
     ],
     "language": "python",
     "metadata": {},
     "outputs": [],
     "prompt_number": 138
    },
    {
     "cell_type": "code",
     "collapsed": false,
     "input": [
      "record=records[1]"
     ],
     "language": "python",
     "metadata": {},
     "outputs": [],
     "prompt_number": 141
    },
    {
     "cell_type": "code",
     "collapsed": false,
     "input": [
      "record[186:276]"
     ],
     "language": "python",
     "metadata": {},
     "outputs": [
      {
       "output_type": "pyout",
       "prompt_number": 142,
       "text": [
        "u'Advanced high resolution forest/carbon mapping in the Colombian Amazon with CAO-Lidar - Ca'"
       ]
      }
     ],
     "prompt_number": 142
    },
    {
     "cell_type": "code",
     "collapsed": false,
     "input": [],
     "language": "python",
     "metadata": {},
     "outputs": []
    }
   ],
   "metadata": {}
  }
 ]
}